{
 "cells": [
  {
   "cell_type": "code",
   "execution_count": 1,
   "metadata": {
    "ExecuteTime": {
     "end_time": "2022-09-23T04:36:22.133408Z",
     "start_time": "2022-09-23T04:36:21.714395Z"
    }
   },
   "outputs": [],
   "source": [
    "import pandas as pd \n",
    "import numpy as np\n",
    "import matplotlib.pyplot as plt\n",
    "# reading a csv file using pandas library\n",
    "wcat=pd.read_csv(\"wc-at.csv\")\n",
    "wcat\n",
    "pd.set_option('display.min_rows', None) \n",
    "\n",
    " "
   ]
  },
  {
   "cell_type": "code",
   "execution_count": 45,
   "metadata": {
    "ExecuteTime": {
     "end_time": "2022-08-04T11:04:17.965712Z",
     "start_time": "2022-08-04T11:04:17.951381Z"
    }
   },
   "outputs": [
    {
     "data": {
      "text/plain": [
       "(109, 2)"
      ]
     },
     "execution_count": 45,
     "metadata": {},
     "output_type": "execute_result"
    }
   ],
   "source": [
    "wcat.shape    "
   ]
  },
  {
   "cell_type": "code",
   "execution_count": 2,
   "metadata": {
    "ExecuteTime": {
     "end_time": "2022-09-23T04:39:05.787811Z",
     "start_time": "2022-09-23T04:39:05.749635Z"
    }
   },
   "outputs": [
    {
     "data": {
      "text/html": [
       "<div><div id=4cad5876-d84f-4096-846b-16641f725777 style=\"display:none; background-color:#9D6CFF; color:white; width:200px; height:30px; padding-left:5px; border-radius:4px; flex-direction:row; justify-content:space-around; align-items:center;\" onmouseover=\"this.style.backgroundColor='#BA9BF8'\" onmouseout=\"this.style.backgroundColor='#9D6CFF'\" onclick=\"window.commands?.execute('create-mitosheet-from-dataframe-output');\">See Full Dataframe in Mito</div> <script> if (window.commands?.hasCommand('create-mitosheet-from-dataframe-output')) document.getElementById('4cad5876-d84f-4096-846b-16641f725777').style.display = 'flex' </script> <table border=\"1\" class=\"dataframe\">\n",
       "  <thead>\n",
       "    <tr style=\"text-align: right;\">\n",
       "      <th></th>\n",
       "      <th>Waist</th>\n",
       "      <th>AT</th>\n",
       "    </tr>\n",
       "  </thead>\n",
       "  <tbody>\n",
       "    <tr>\n",
       "      <th>0</th>\n",
       "      <td>74.75</td>\n",
       "      <td>25.72</td>\n",
       "    </tr>\n",
       "    <tr>\n",
       "      <th>1</th>\n",
       "      <td>72.60</td>\n",
       "      <td>25.89</td>\n",
       "    </tr>\n",
       "    <tr>\n",
       "      <th>2</th>\n",
       "      <td>81.80</td>\n",
       "      <td>42.60</td>\n",
       "    </tr>\n",
       "    <tr>\n",
       "      <th>3</th>\n",
       "      <td>83.95</td>\n",
       "      <td>42.80</td>\n",
       "    </tr>\n",
       "    <tr>\n",
       "      <th>4</th>\n",
       "      <td>74.65</td>\n",
       "      <td>29.84</td>\n",
       "    </tr>\n",
       "    <tr>\n",
       "      <th>5</th>\n",
       "      <td>71.85</td>\n",
       "      <td>21.68</td>\n",
       "    </tr>\n",
       "    <tr>\n",
       "      <th>6</th>\n",
       "      <td>80.90</td>\n",
       "      <td>29.08</td>\n",
       "    </tr>\n",
       "    <tr>\n",
       "      <th>7</th>\n",
       "      <td>83.40</td>\n",
       "      <td>32.98</td>\n",
       "    </tr>\n",
       "    <tr>\n",
       "      <th>8</th>\n",
       "      <td>63.50</td>\n",
       "      <td>11.44</td>\n",
       "    </tr>\n",
       "    <tr>\n",
       "      <th>9</th>\n",
       "      <td>73.20</td>\n",
       "      <td>32.22</td>\n",
       "    </tr>\n",
       "    <tr>\n",
       "      <th>10</th>\n",
       "      <td>71.90</td>\n",
       "      <td>28.32</td>\n",
       "    </tr>\n",
       "    <tr>\n",
       "      <th>11</th>\n",
       "      <td>75.00</td>\n",
       "      <td>43.86</td>\n",
       "    </tr>\n",
       "    <tr>\n",
       "      <th>12</th>\n",
       "      <td>73.10</td>\n",
       "      <td>38.21</td>\n",
       "    </tr>\n",
       "    <tr>\n",
       "      <th>13</th>\n",
       "      <td>79.00</td>\n",
       "      <td>42.48</td>\n",
       "    </tr>\n",
       "    <tr>\n",
       "      <th>14</th>\n",
       "      <td>77.00</td>\n",
       "      <td>30.96</td>\n",
       "    </tr>\n",
       "    <tr>\n",
       "      <th>15</th>\n",
       "      <td>68.85</td>\n",
       "      <td>55.78</td>\n",
       "    </tr>\n",
       "    <tr>\n",
       "      <th>16</th>\n",
       "      <td>75.95</td>\n",
       "      <td>43.78</td>\n",
       "    </tr>\n",
       "    <tr>\n",
       "      <th>17</th>\n",
       "      <td>74.15</td>\n",
       "      <td>33.41</td>\n",
       "    </tr>\n",
       "    <tr>\n",
       "      <th>18</th>\n",
       "      <td>73.80</td>\n",
       "      <td>43.35</td>\n",
       "    </tr>\n",
       "    <tr>\n",
       "      <th>19</th>\n",
       "      <td>75.90</td>\n",
       "      <td>29.31</td>\n",
       "    </tr>\n",
       "    <tr>\n",
       "      <th>20</th>\n",
       "      <td>76.85</td>\n",
       "      <td>36.60</td>\n",
       "    </tr>\n",
       "    <tr>\n",
       "      <th>21</th>\n",
       "      <td>80.90</td>\n",
       "      <td>40.25</td>\n",
       "    </tr>\n",
       "    <tr>\n",
       "      <th>22</th>\n",
       "      <td>79.90</td>\n",
       "      <td>35.43</td>\n",
       "    </tr>\n",
       "    <tr>\n",
       "      <th>23</th>\n",
       "      <td>89.20</td>\n",
       "      <td>60.09</td>\n",
       "    </tr>\n",
       "    <tr>\n",
       "      <th>24</th>\n",
       "      <td>82.00</td>\n",
       "      <td>45.84</td>\n",
       "    </tr>\n",
       "    <tr>\n",
       "      <th>25</th>\n",
       "      <td>92.00</td>\n",
       "      <td>70.40</td>\n",
       "    </tr>\n",
       "    <tr>\n",
       "      <th>26</th>\n",
       "      <td>86.60</td>\n",
       "      <td>83.45</td>\n",
       "    </tr>\n",
       "    <tr>\n",
       "      <th>27</th>\n",
       "      <td>80.50</td>\n",
       "      <td>84.30</td>\n",
       "    </tr>\n",
       "    <tr>\n",
       "      <th>28</th>\n",
       "      <td>86.00</td>\n",
       "      <td>78.89</td>\n",
       "    </tr>\n",
       "    <tr>\n",
       "      <th>29</th>\n",
       "      <td>82.50</td>\n",
       "      <td>64.75</td>\n",
       "    </tr>\n",
       "    <tr>\n",
       "      <th>30</th>\n",
       "      <td>83.50</td>\n",
       "      <td>72.56</td>\n",
       "    </tr>\n",
       "    <tr>\n",
       "      <th>31</th>\n",
       "      <td>88.10</td>\n",
       "      <td>89.31</td>\n",
       "    </tr>\n",
       "    <tr>\n",
       "      <th>32</th>\n",
       "      <td>90.80</td>\n",
       "      <td>78.94</td>\n",
       "    </tr>\n",
       "    <tr>\n",
       "      <th>33</th>\n",
       "      <td>89.40</td>\n",
       "      <td>83.55</td>\n",
       "    </tr>\n",
       "    <tr>\n",
       "      <th>34</th>\n",
       "      <td>102.00</td>\n",
       "      <td>127.00</td>\n",
       "    </tr>\n",
       "    <tr>\n",
       "      <th>35</th>\n",
       "      <td>94.50</td>\n",
       "      <td>121.00</td>\n",
       "    </tr>\n",
       "    <tr>\n",
       "      <th>36</th>\n",
       "      <td>91.00</td>\n",
       "      <td>107.00</td>\n",
       "    </tr>\n",
       "    <tr>\n",
       "      <th>37</th>\n",
       "      <td>103.00</td>\n",
       "      <td>129.00</td>\n",
       "    </tr>\n",
       "    <tr>\n",
       "      <th>38</th>\n",
       "      <td>80.00</td>\n",
       "      <td>74.02</td>\n",
       "    </tr>\n",
       "    <tr>\n",
       "      <th>39</th>\n",
       "      <td>79.00</td>\n",
       "      <td>55.48</td>\n",
       "    </tr>\n",
       "    <tr>\n",
       "      <th>40</th>\n",
       "      <td>83.50</td>\n",
       "      <td>73.13</td>\n",
       "    </tr>\n",
       "    <tr>\n",
       "      <th>41</th>\n",
       "      <td>76.00</td>\n",
       "      <td>50.50</td>\n",
       "    </tr>\n",
       "    <tr>\n",
       "      <th>42</th>\n",
       "      <td>80.50</td>\n",
       "      <td>50.88</td>\n",
       "    </tr>\n",
       "    <tr>\n",
       "      <th>43</th>\n",
       "      <td>86.50</td>\n",
       "      <td>140.00</td>\n",
       "    </tr>\n",
       "    <tr>\n",
       "      <th>44</th>\n",
       "      <td>83.00</td>\n",
       "      <td>96.54</td>\n",
       "    </tr>\n",
       "    <tr>\n",
       "      <th>45</th>\n",
       "      <td>107.10</td>\n",
       "      <td>118.00</td>\n",
       "    </tr>\n",
       "    <tr>\n",
       "      <th>46</th>\n",
       "      <td>94.30</td>\n",
       "      <td>107.00</td>\n",
       "    </tr>\n",
       "    <tr>\n",
       "      <th>47</th>\n",
       "      <td>94.50</td>\n",
       "      <td>123.00</td>\n",
       "    </tr>\n",
       "    <tr>\n",
       "      <th>48</th>\n",
       "      <td>79.70</td>\n",
       "      <td>65.92</td>\n",
       "    </tr>\n",
       "    <tr>\n",
       "      <th>49</th>\n",
       "      <td>79.30</td>\n",
       "      <td>81.29</td>\n",
       "    </tr>\n",
       "    <tr>\n",
       "      <th>50</th>\n",
       "      <td>89.80</td>\n",
       "      <td>111.00</td>\n",
       "    </tr>\n",
       "    <tr>\n",
       "      <th>51</th>\n",
       "      <td>83.80</td>\n",
       "      <td>90.73</td>\n",
       "    </tr>\n",
       "    <tr>\n",
       "      <th>52</th>\n",
       "      <td>85.20</td>\n",
       "      <td>133.00</td>\n",
       "    </tr>\n",
       "    <tr>\n",
       "      <th>53</th>\n",
       "      <td>75.50</td>\n",
       "      <td>41.90</td>\n",
       "    </tr>\n",
       "    <tr>\n",
       "      <th>54</th>\n",
       "      <td>78.40</td>\n",
       "      <td>41.71</td>\n",
       "    </tr>\n",
       "    <tr>\n",
       "      <th>55</th>\n",
       "      <td>78.60</td>\n",
       "      <td>58.16</td>\n",
       "    </tr>\n",
       "    <tr>\n",
       "      <th>56</th>\n",
       "      <td>87.80</td>\n",
       "      <td>88.85</td>\n",
       "    </tr>\n",
       "    <tr>\n",
       "      <th>57</th>\n",
       "      <td>86.30</td>\n",
       "      <td>155.00</td>\n",
       "    </tr>\n",
       "    <tr>\n",
       "      <th>58</th>\n",
       "      <td>85.50</td>\n",
       "      <td>70.77</td>\n",
       "    </tr>\n",
       "    <tr>\n",
       "      <th>59</th>\n",
       "      <td>83.70</td>\n",
       "      <td>75.08</td>\n",
       "    </tr>\n",
       "    <tr>\n",
       "      <th>60</th>\n",
       "      <td>77.60</td>\n",
       "      <td>57.05</td>\n",
       "    </tr>\n",
       "    <tr>\n",
       "      <th>61</th>\n",
       "      <td>84.90</td>\n",
       "      <td>99.73</td>\n",
       "    </tr>\n",
       "    <tr>\n",
       "      <th>62</th>\n",
       "      <td>79.80</td>\n",
       "      <td>27.96</td>\n",
       "    </tr>\n",
       "    <tr>\n",
       "      <th>63</th>\n",
       "      <td>108.30</td>\n",
       "      <td>123.00</td>\n",
       "    </tr>\n",
       "    <tr>\n",
       "      <th>64</th>\n",
       "      <td>119.60</td>\n",
       "      <td>90.41</td>\n",
       "    </tr>\n",
       "    <tr>\n",
       "      <th>65</th>\n",
       "      <td>119.90</td>\n",
       "      <td>106.00</td>\n",
       "    </tr>\n",
       "    <tr>\n",
       "      <th>66</th>\n",
       "      <td>96.50</td>\n",
       "      <td>144.00</td>\n",
       "    </tr>\n",
       "    <tr>\n",
       "      <th>67</th>\n",
       "      <td>105.50</td>\n",
       "      <td>121.00</td>\n",
       "    </tr>\n",
       "    <tr>\n",
       "      <th>68</th>\n",
       "      <td>105.00</td>\n",
       "      <td>97.13</td>\n",
       "    </tr>\n",
       "    <tr>\n",
       "      <th>69</th>\n",
       "      <td>107.00</td>\n",
       "      <td>166.00</td>\n",
       "    </tr>\n",
       "    <tr>\n",
       "      <th>70</th>\n",
       "      <td>107.00</td>\n",
       "      <td>87.99</td>\n",
       "    </tr>\n",
       "    <tr>\n",
       "      <th>71</th>\n",
       "      <td>101.00</td>\n",
       "      <td>154.00</td>\n",
       "    </tr>\n",
       "    <tr>\n",
       "      <th>72</th>\n",
       "      <td>97.00</td>\n",
       "      <td>100.00</td>\n",
       "    </tr>\n",
       "    <tr>\n",
       "      <th>73</th>\n",
       "      <td>100.00</td>\n",
       "      <td>123.00</td>\n",
       "    </tr>\n",
       "    <tr>\n",
       "      <th>74</th>\n",
       "      <td>108.00</td>\n",
       "      <td>217.00</td>\n",
       "    </tr>\n",
       "    <tr>\n",
       "      <th>75</th>\n",
       "      <td>100.00</td>\n",
       "      <td>140.00</td>\n",
       "    </tr>\n",
       "    <tr>\n",
       "      <th>76</th>\n",
       "      <td>103.00</td>\n",
       "      <td>109.00</td>\n",
       "    </tr>\n",
       "    <tr>\n",
       "      <th>77</th>\n",
       "      <td>104.00</td>\n",
       "      <td>127.00</td>\n",
       "    </tr>\n",
       "    <tr>\n",
       "      <th>78</th>\n",
       "      <td>106.00</td>\n",
       "      <td>112.00</td>\n",
       "    </tr>\n",
       "    <tr>\n",
       "      <th>79</th>\n",
       "      <td>109.00</td>\n",
       "      <td>192.00</td>\n",
       "    </tr>\n",
       "    <tr>\n",
       "      <th>80</th>\n",
       "      <td>103.50</td>\n",
       "      <td>132.00</td>\n",
       "    </tr>\n",
       "    <tr>\n",
       "      <th>81</th>\n",
       "      <td>110.00</td>\n",
       "      <td>126.00</td>\n",
       "    </tr>\n",
       "    <tr>\n",
       "      <th>82</th>\n",
       "      <td>110.00</td>\n",
       "      <td>153.00</td>\n",
       "    </tr>\n",
       "    <tr>\n",
       "      <th>83</th>\n",
       "      <td>112.00</td>\n",
       "      <td>158.00</td>\n",
       "    </tr>\n",
       "    <tr>\n",
       "      <th>84</th>\n",
       "      <td>108.50</td>\n",
       "      <td>183.00</td>\n",
       "    </tr>\n",
       "    <tr>\n",
       "      <th>85</th>\n",
       "      <td>104.00</td>\n",
       "      <td>184.00</td>\n",
       "    </tr>\n",
       "    <tr>\n",
       "      <th>86</th>\n",
       "      <td>111.00</td>\n",
       "      <td>121.00</td>\n",
       "    </tr>\n",
       "    <tr>\n",
       "      <th>87</th>\n",
       "      <td>108.50</td>\n",
       "      <td>159.00</td>\n",
       "    </tr>\n",
       "    <tr>\n",
       "      <th>88</th>\n",
       "      <td>121.00</td>\n",
       "      <td>245.00</td>\n",
       "    </tr>\n",
       "    <tr>\n",
       "      <th>89</th>\n",
       "      <td>109.00</td>\n",
       "      <td>137.00</td>\n",
       "    </tr>\n",
       "    <tr>\n",
       "      <th>90</th>\n",
       "      <td>97.50</td>\n",
       "      <td>165.00</td>\n",
       "    </tr>\n",
       "    <tr>\n",
       "      <th>91</th>\n",
       "      <td>105.50</td>\n",
       "      <td>152.00</td>\n",
       "    </tr>\n",
       "    <tr>\n",
       "      <th>92</th>\n",
       "      <td>98.00</td>\n",
       "      <td>181.00</td>\n",
       "    </tr>\n",
       "    <tr>\n",
       "      <th>93</th>\n",
       "      <td>94.50</td>\n",
       "      <td>80.95</td>\n",
       "    </tr>\n",
       "    <tr>\n",
       "      <th>94</th>\n",
       "      <td>97.00</td>\n",
       "      <td>137.00</td>\n",
       "    </tr>\n",
       "    <tr>\n",
       "      <th>95</th>\n",
       "      <td>105.00</td>\n",
       "      <td>125.00</td>\n",
       "    </tr>\n",
       "    <tr>\n",
       "      <th>96</th>\n",
       "      <td>106.00</td>\n",
       "      <td>241.00</td>\n",
       "    </tr>\n",
       "    <tr>\n",
       "      <th>97</th>\n",
       "      <td>99.00</td>\n",
       "      <td>134.00</td>\n",
       "    </tr>\n",
       "    <tr>\n",
       "      <th>98</th>\n",
       "      <td>91.00</td>\n",
       "      <td>150.00</td>\n",
       "    </tr>\n",
       "    <tr>\n",
       "      <th>99</th>\n",
       "      <td>102.50</td>\n",
       "      <td>198.00</td>\n",
       "    </tr>\n",
       "    <tr>\n",
       "      <th>100</th>\n",
       "      <td>106.00</td>\n",
       "      <td>151.00</td>\n",
       "    </tr>\n",
       "    <tr>\n",
       "      <th>101</th>\n",
       "      <td>109.10</td>\n",
       "      <td>229.00</td>\n",
       "    </tr>\n",
       "    <tr>\n",
       "      <th>102</th>\n",
       "      <td>115.00</td>\n",
       "      <td>253.00</td>\n",
       "    </tr>\n",
       "    <tr>\n",
       "      <th>103</th>\n",
       "      <td>101.00</td>\n",
       "      <td>188.00</td>\n",
       "    </tr>\n",
       "    <tr>\n",
       "      <th>104</th>\n",
       "      <td>100.10</td>\n",
       "      <td>124.00</td>\n",
       "    </tr>\n",
       "    <tr>\n",
       "      <th>105</th>\n",
       "      <td>93.30</td>\n",
       "      <td>62.20</td>\n",
       "    </tr>\n",
       "    <tr>\n",
       "      <th>106</th>\n",
       "      <td>101.80</td>\n",
       "      <td>133.00</td>\n",
       "    </tr>\n",
       "    <tr>\n",
       "      <th>107</th>\n",
       "      <td>107.90</td>\n",
       "      <td>208.00</td>\n",
       "    </tr>\n",
       "    <tr>\n",
       "      <th>108</th>\n",
       "      <td>108.50</td>\n",
       "      <td>208.00</td>\n",
       "    </tr>\n",
       "  </tbody>\n",
       "</table></div>"
      ],
      "text/plain": [
       "      Waist      AT\n",
       "0     74.75   25.72\n",
       "1     72.60   25.89\n",
       "2     81.80   42.60\n",
       "3     83.95   42.80\n",
       "4     74.65   29.84\n",
       "5     71.85   21.68\n",
       "6     80.90   29.08\n",
       "7     83.40   32.98\n",
       "8     63.50   11.44\n",
       "9     73.20   32.22\n",
       "10    71.90   28.32\n",
       "11    75.00   43.86\n",
       "12    73.10   38.21\n",
       "13    79.00   42.48\n",
       "14    77.00   30.96\n",
       "15    68.85   55.78\n",
       "16    75.95   43.78\n",
       "17    74.15   33.41\n",
       "18    73.80   43.35\n",
       "19    75.90   29.31\n",
       "20    76.85   36.60\n",
       "21    80.90   40.25\n",
       "22    79.90   35.43\n",
       "23    89.20   60.09\n",
       "24    82.00   45.84\n",
       "25    92.00   70.40\n",
       "26    86.60   83.45\n",
       "27    80.50   84.30\n",
       "28    86.00   78.89\n",
       "29    82.50   64.75\n",
       "..      ...     ...\n",
       "79   109.00  192.00\n",
       "80   103.50  132.00\n",
       "81   110.00  126.00\n",
       "82   110.00  153.00\n",
       "83   112.00  158.00\n",
       "84   108.50  183.00\n",
       "85   104.00  184.00\n",
       "86   111.00  121.00\n",
       "87   108.50  159.00\n",
       "88   121.00  245.00\n",
       "89   109.00  137.00\n",
       "90    97.50  165.00\n",
       "91   105.50  152.00\n",
       "92    98.00  181.00\n",
       "93    94.50   80.95\n",
       "94    97.00  137.00\n",
       "95   105.00  125.00\n",
       "96   106.00  241.00\n",
       "97    99.00  134.00\n",
       "98    91.00  150.00\n",
       "99   102.50  198.00\n",
       "100  106.00  151.00\n",
       "101  109.10  229.00\n",
       "102  115.00  253.00\n",
       "103  101.00  188.00\n",
       "104  100.10  124.00\n",
       "105   93.30   62.20\n",
       "106  101.80  133.00\n",
       "107  107.90  208.00\n",
       "108  108.50  208.00\n",
       "\n",
       "[109 rows x 2 columns]"
      ]
     },
     "execution_count": 2,
     "metadata": {},
     "output_type": "execute_result"
    }
   ],
   "source": [
    "wcat "
   ]
  },
  {
   "cell_type": "code",
   "execution_count": 3,
   "metadata": {
    "ExecuteTime": {
     "end_time": "2022-09-23T04:39:16.362788Z",
     "start_time": "2022-09-23T04:39:16.341830Z"
    }
   },
   "outputs": [
    {
     "data": {
      "text/html": [
       "<div><div id=1b2f6ccd-4c10-4845-99b9-1417cc199503 style=\"display:none; background-color:#9D6CFF; color:white; width:200px; height:30px; padding-left:5px; border-radius:4px; flex-direction:row; justify-content:space-around; align-items:center;\" onmouseover=\"this.style.backgroundColor='#BA9BF8'\" onmouseout=\"this.style.backgroundColor='#9D6CFF'\" onclick=\"window.commands?.execute('create-mitosheet-from-dataframe-output');\">See Full Dataframe in Mito</div> <script> if (window.commands?.hasCommand('create-mitosheet-from-dataframe-output')) document.getElementById('1b2f6ccd-4c10-4845-99b9-1417cc199503').style.display = 'flex' </script> <table border=\"1\" class=\"dataframe\">\n",
       "  <thead>\n",
       "    <tr style=\"text-align: right;\">\n",
       "      <th></th>\n",
       "      <th>Waist</th>\n",
       "      <th>AT</th>\n",
       "    </tr>\n",
       "  </thead>\n",
       "  <tbody>\n",
       "    <tr>\n",
       "      <th>count</th>\n",
       "      <td>109.000000</td>\n",
       "      <td>109.000000</td>\n",
       "    </tr>\n",
       "    <tr>\n",
       "      <th>mean</th>\n",
       "      <td>91.901835</td>\n",
       "      <td>101.894037</td>\n",
       "    </tr>\n",
       "    <tr>\n",
       "      <th>std</th>\n",
       "      <td>13.559116</td>\n",
       "      <td>57.294763</td>\n",
       "    </tr>\n",
       "    <tr>\n",
       "      <th>min</th>\n",
       "      <td>63.500000</td>\n",
       "      <td>11.440000</td>\n",
       "    </tr>\n",
       "    <tr>\n",
       "      <th>25%</th>\n",
       "      <td>80.000000</td>\n",
       "      <td>50.880000</td>\n",
       "    </tr>\n",
       "    <tr>\n",
       "      <th>50%</th>\n",
       "      <td>90.800000</td>\n",
       "      <td>96.540000</td>\n",
       "    </tr>\n",
       "    <tr>\n",
       "      <th>75%</th>\n",
       "      <td>104.000000</td>\n",
       "      <td>137.000000</td>\n",
       "    </tr>\n",
       "    <tr>\n",
       "      <th>max</th>\n",
       "      <td>121.000000</td>\n",
       "      <td>253.000000</td>\n",
       "    </tr>\n",
       "  </tbody>\n",
       "</table></div>"
      ],
      "text/plain": [
       "            Waist          AT\n",
       "count  109.000000  109.000000\n",
       "mean    91.901835  101.894037\n",
       "std     13.559116   57.294763\n",
       "min     63.500000   11.440000\n",
       "25%     80.000000   50.880000\n",
       "50%     90.800000   96.540000\n",
       "75%    104.000000  137.000000\n",
       "max    121.000000  253.000000"
      ]
     },
     "execution_count": 3,
     "metadata": {},
     "output_type": "execute_result"
    }
   ],
   "source": [
    "wcat.describe()   "
   ]
  },
  {
   "cell_type": "code",
   "execution_count": 4,
   "metadata": {
    "ExecuteTime": {
     "end_time": "2022-09-23T04:39:27.959327Z",
     "start_time": "2022-09-23T04:39:27.913376Z"
    }
   },
   "outputs": [
    {
     "name": "stdout",
     "output_type": "stream",
     "text": [
      "<class 'pandas.core.frame.DataFrame'>\n",
      "RangeIndex: 109 entries, 0 to 108\n",
      "Data columns (total 2 columns):\n",
      " #   Column  Non-Null Count  Dtype  \n",
      "---  ------  --------------  -----  \n",
      " 0   Waist   109 non-null    float64\n",
      " 1   AT      109 non-null    float64\n",
      "dtypes: float64(2)\n",
      "memory usage: 1.8 KB\n"
     ]
    }
   ],
   "source": [
    "wcat.info() "
   ]
  },
  {
   "cell_type": "code",
   "execution_count": 5,
   "metadata": {
    "ExecuteTime": {
     "end_time": "2022-09-23T04:39:52.593000Z",
     "start_time": "2022-09-23T04:39:52.581537Z"
    }
   },
   "outputs": [
    {
     "data": {
      "text/plain": [
       "Index(['Waist', 'AT'], dtype='object')"
      ]
     },
     "execution_count": 5,
     "metadata": {},
     "output_type": "execute_result"
    }
   ],
   "source": [
    "wcat.columns "
   ]
  },
  {
   "cell_type": "code",
   "execution_count": 6,
   "metadata": {
    "ExecuteTime": {
     "end_time": "2022-09-23T04:40:47.833180Z",
     "start_time": "2022-09-23T04:40:47.711675Z"
    }
   },
   "outputs": [
    {
     "data": {
      "image/png": "[encoded data removed]",
      "text/plain": [
       "<Figure size 432x288 with 1 Axes>"
      ]
     },
     "metadata": {
      "needs_background": "light"
     },
     "output_type": "display_data"
    }
   ],
   "source": [
    "plt.boxplot(wcat.Waist) \n",
    "plt.show() "
   ]
  },
  {
   "cell_type": "code",
   "execution_count": 49,
   "metadata": {
    "ExecuteTime": {
     "end_time": "2022-08-04T11:04:18.373017Z",
     "start_time": "2022-08-04T11:04:18.218574Z"
    }
   },
   "outputs": [
    {
     "data": {
      "image/png": "[encoded data removed]",
      "text/plain": [
       "<Figure size 432x288 with 1 Axes>"
      ]
     },
     "metadata": {
      "needs_background": "light"
     },
     "output_type": "display_data"
    }
   ],
   "source": [
    "plt.hist(wcat.Waist) \n",
    "plt.show() "
   ]
  },
  {
   "cell_type": "code",
   "execution_count": 8,
   "metadata": {
    "ExecuteTime": {
     "end_time": "2022-09-23T04:42:09.805120Z",
     "start_time": "2022-09-23T04:42:09.664270Z"
    }
   },
   "outputs": [
    {
     "data": {
      "image/png": "[encoded data removed]",
      "text/plain": [
       "<Figure size 432x288 with 1 Axes>"
      ]
     },
     "metadata": {
      "needs_background": "light"
     },
     "output_type": "display_data"
    }
   ],
   "source": [
    "import warnings\n",
    "warnings.filterwarnings('ignore')\n",
    "import seaborn as sns\n",
    "sns.distplot(wcat['Waist']) \n",
    "plt.show() "
   ]
  },
  {
   "cell_type": "code",
   "execution_count": 9,
   "metadata": {
    "ExecuteTime": {
     "end_time": "2022-09-23T04:42:40.591434Z",
     "start_time": "2022-09-23T04:42:40.476480Z"
    }
   },
   "outputs": [
    {
     "data": {
      "image/png": "[encoded data removed]",
      "text/plain": [
       "<Figure size 432x288 with 1 Axes>"
      ]
     },
     "metadata": {
      "needs_background": "light"
     },
     "output_type": "display_data"
    }
   ],
   "source": [
    "plt.boxplot(wcat.AT) \n",
    "plt.xlabel(\"AT\") \n",
    "plt.ylabel(\"No of Observations\")\n",
    "plt.title(\"Boxplot of AT\") \n",
    "plt.show()    "
   ]
  },
  {
   "cell_type": "code",
   "execution_count": 10,
   "metadata": {
    "ExecuteTime": {
     "end_time": "2022-09-23T04:42:45.790756Z",
     "start_time": "2022-09-23T04:42:45.660980Z"
    }
   },
   "outputs": [
    {
     "data": {
      "image/png": "[encoded data removed]",
      "text/plain": [
       "<Figure size 432x288 with 1 Axes>"
      ]
     },
     "metadata": {
      "needs_background": "light"
     },
     "output_type": "display_data"
    }
   ],
   "source": [
    "plt.hist(wcat.AT)\n",
    "plt.show()   "
   ]
  },
  {
   "cell_type": "code",
   "execution_count": 11,
   "metadata": {
    "ExecuteTime": {
     "end_time": "2022-09-23T04:43:05.281799Z",
     "start_time": "2022-09-23T04:43:05.089779Z"
    }
   },
   "outputs": [
    {
     "data": {
      "image/png": "[encoded data removed]",
      "text/plain": [
       "<Figure size 432x288 with 1 Axes>"
      ]
     },
     "metadata": {
      "needs_background": "light"
     },
     "output_type": "display_data"
    }
   ],
   "source": [
    "import warnings\n",
    "warnings.filterwarnings('ignore')\n",
    "import seaborn as sns\n",
    "sns.distplot(wcat['AT']) \n",
    "plt.show()  "
   ]
  },
  {
   "cell_type": "code",
   "execution_count": 13,
   "metadata": {
    "ExecuteTime": {
     "end_time": "2022-09-23T04:44:10.288812Z",
     "start_time": "2022-09-23T04:44:10.145286Z"
    }
   },
   "outputs": [
    {
     "name": "stdout",
     "output_type": "stream",
     "text": [
      "Help on function plot in module matplotlib.pyplot:\n",
      "\n",
      "plot(*args, scalex=True, scaley=True, data=None, **kwargs)\n",
      "    Plot y versus x as lines and/or markers.\n",
      "    \n",
      "    Call signatures::\n",
      "    \n",
      "        plot([x], y, [fmt], *, data=None, **kwargs)\n",
      "        plot([x], y, [fmt], [x2], y2, [fmt2], ..., **kwargs)\n",
      "    \n",
      "    The coordinates of the points or line nodes are given by *x*, *y*.\n",
      "    \n",
      "    The optional parameter *fmt* is a convenient way for defining basic\n",
      "    formatting like color, marker and linestyle. It's a shortcut string\n",
      "    notation described in the *Notes* section below.\n",
      "    \n",
      "    >>> plot(x, y)        # plot x and y using default line style and color\n",
      "    >>> plot(x, y, 'bo')  # plot x and y using blue circle markers\n",
      "    >>> plot(y)           # plot y using x as index array 0..N-1\n",
      "    >>> plot(y, 'r+')     # ditto, but with red plusses\n",
      "    \n",
      "    You can use `.Line2D` properties as keyword arguments for more\n",
      "    control on the appearance. Line properties and *fmt* can be mixed.\n",
      "    The following two calls yield identical results:\n",
      "    \n",
      "    >>> plot(x, y, 'go--', linewidth=2, markersize=12)\n",
      "    >>> plot(x, y, color='green', marker='o', linestyle='dashed',\n",
      "    ...      linewidth=2, markersize=12)\n",
      "    \n",
      "    When conflicting with *fmt*, keyword arguments take precedence.\n",
      "    \n",
      "    \n",
      "    **Plotting labelled data**\n",
      "    \n",
      "    There's a convenient way for plotting objects with labelled data (i.e.\n",
      "    data that can be accessed by index ``obj['y']``). Instead of giving\n",
      "    the data in *x* and *y*, you can provide the object in the *data*\n",
      "    parameter and just give the labels for *x* and *y*::\n",
      "    \n",
      "    >>> plot('xlabel', 'ylabel', data=obj)\n",
      "    \n",
      "    All indexable objects are supported. This could e.g. be a `dict`, a\n",
      "    `pandas.DataFrame` or a structured numpy array.\n",
      "    \n",
      "    \n",
      "    **Plotting multiple sets of data**\n",
      "    \n",
      "    There are various ways to plot multiple sets of data.\n",
      "    \n",
      "    - The most straight forward way is just to call `plot` multiple times.\n",
      "      Example:\n",
      "    \n",
      "      >>> plot(x1, y1, 'bo')\n",
      "      >>> plot(x2, y2, 'go')\n",
      "    \n",
      "    - If *x* and/or *y* are 2D arrays a separate data set will be drawn\n",
      "      for every column. If both *x* and *y* are 2D, they must have the\n",
      "      same shape. If only one of them is 2D with shape (N, m) the other\n",
      "      must have length N and will be used for every data set m.\n",
      "    \n",
      "      Example:\n",
      "    \n",
      "      >>> x = [1, 2, 3]\n",
      "      >>> y = np.array([[1, 2], [3, 4], [5, 6]])\n",
      "      >>> plot(x, y)\n",
      "    \n",
      "      is equivalent to:\n",
      "    \n",
      "      >>> for col in range(y.shape[1]):\n",
      "      ...     plot(x, y[:, col])\n",
      "    \n",
      "    - The third way is to specify multiple sets of *[x]*, *y*, *[fmt]*\n",
      "      groups::\n",
      "    \n",
      "      >>> plot(x1, y1, 'g^', x2, y2, 'g-')\n",
      "    \n",
      "      In this case, any additional keyword argument applies to all\n",
      "      datasets. Also this syntax cannot be combined with the *data*\n",
      "      parameter.\n",
      "    \n",
      "    By default, each line is assigned a different style specified by a\n",
      "    'style cycle'. The *fmt* and line property parameters are only\n",
      "    necessary if you want explicit deviations from these defaults.\n",
      "    Alternatively, you can also change the style cycle using\n",
      "    :rc:`axes.prop_cycle`.\n",
      "    \n",
      "    \n",
      "    Parameters\n",
      "    ----------\n",
      "    x, y : array-like or scalar\n",
      "        The horizontal / vertical coordinates of the data points.\n",
      "        *x* values are optional and default to ``range(len(y))``.\n",
      "    \n",
      "        Commonly, these parameters are 1D arrays.\n",
      "    \n",
      "        They can also be scalars, or two-dimensional (in that case, the\n",
      "        columns represent separate data sets).\n",
      "    \n",
      "        These arguments cannot be passed as keywords.\n",
      "    \n",
      "    fmt : str, optional\n",
      "        A format string, e.g. 'ro' for red circles. See the *Notes*\n",
      "        section for a full description of the format strings.\n",
      "    \n",
      "        Format strings are just an abbreviation for quickly setting\n",
      "        basic line properties. All of these and more can also be\n",
      "        controlled by keyword arguments.\n",
      "    \n",
      "        This argument cannot be passed as keyword.\n",
      "    \n",
      "    data : indexable object, optional\n",
      "        An object with labelled data. If given, provide the label names to\n",
      "        plot in *x* and *y*.\n",
      "    \n",
      "        .. note::\n",
      "            Technically there's a slight ambiguity in calls where the\n",
      "            second label is a valid *fmt*. ``plot('n', 'o', data=obj)``\n",
      "            could be ``plt(x, y)`` or ``plt(y, fmt)``. In such cases,\n",
      "            the former interpretation is chosen, but a warning is issued.\n",
      "            You may suppress the warning by adding an empty format string\n",
      "            ``plot('n', 'o', '', data=obj)``.\n",
      "    \n",
      "    Returns\n",
      "    -------\n",
      "    list of `.Line2D`\n",
      "        A list of lines representing the plotted data.\n",
      "    \n",
      "    Other Parameters\n",
      "    ----------------\n",
      "    scalex, scaley : bool, default: True\n",
      "        These parameters determine if the view limits are adapted to the\n",
      "        data limits. The values are passed on to `autoscale_view`.\n",
      "    \n",
      "    **kwargs : `.Line2D` properties, optional\n",
      "        *kwargs* are used to specify properties like a line label (for\n",
      "        auto legends), linewidth, antialiasing, marker face color.\n",
      "        Example::\n",
      "    \n",
      "        >>> plot([1, 2, 3], [1, 2, 3], 'go-', label='line 1', linewidth=2)\n",
      "        >>> plot([1, 2, 3], [1, 4, 9], 'rs', label='line 2')\n",
      "    \n",
      "        If you specify multiple lines with one plot call, the kwargs apply\n",
      "        to all those lines. In case the label object is iterable, each\n",
      "        element is used as labels for each set of data.\n",
      "    \n",
      "        Here is a list of available `.Line2D` properties:\n",
      "    \n",
      "        Properties:\n",
      "        agg_filter: a filter function, which takes a (m, n, 3) float array and a dpi value, and returns a (m, n, 3) array\n",
      "        alpha: scalar or None\n",
      "        animated: bool\n",
      "        antialiased or aa: bool\n",
      "        clip_box: `.Bbox`\n",
      "        clip_on: bool\n",
      "        clip_path: Patch or (Path, Transform) or None\n",
      "        color or c: color\n",
      "        contains: unknown\n",
      "        dash_capstyle: `.CapStyle` or {'butt', 'projecting', 'round'}\n",
      "        dash_joinstyle: `.JoinStyle` or {'miter', 'round', 'bevel'}\n",
      "        dashes: sequence of floats (on/off ink in points) or (None, None)\n",
      "        data: (2, N) array or two 1D arrays\n",
      "        drawstyle or ds: {'default', 'steps', 'steps-pre', 'steps-mid', 'steps-post'}, default: 'default'\n",
      "        figure: `.Figure`\n",
      "        fillstyle: {'full', 'left', 'right', 'bottom', 'top', 'none'}\n",
      "        gid: str\n",
      "        in_layout: bool\n",
      "        label: object\n",
      "        linestyle or ls: {'-', '--', '-.', ':', '', (offset, on-off-seq), ...}\n",
      "        linewidth or lw: float\n",
      "        marker: marker style string, `~.path.Path` or `~.markers.MarkerStyle`\n",
      "        markeredgecolor or mec: color\n",
      "        markeredgewidth or mew: float\n",
      "        markerfacecolor or mfc: color\n",
      "        markerfacecoloralt or mfcalt: color\n",
      "        markersize or ms: float\n",
      "        markevery: None or int or (int, int) or slice or list[int] or float or (float, float) or list[bool]\n",
      "        path_effects: `.AbstractPathEffect`\n",
      "        picker: float or callable[[Artist, Event], tuple[bool, dict]]\n",
      "        pickradius: float\n",
      "        rasterized: bool\n",
      "        sketch_params: (scale: float, length: float, randomness: float)\n",
      "        snap: bool or None\n",
      "        solid_capstyle: `.CapStyle` or {'butt', 'projecting', 'round'}\n",
      "        solid_joinstyle: `.JoinStyle` or {'miter', 'round', 'bevel'}\n",
      "        transform: `matplotlib.transforms.Transform`\n",
      "        url: str\n",
      "        visible: bool\n",
      "        xdata: 1D array\n",
      "        ydata: 1D array\n",
      "        zorder: float\n",
      "    \n",
      "    See Also\n",
      "    --------\n",
      "    scatter : XY scatter plot with markers of varying size and/or color (\n",
      "        sometimes also called bubble chart).\n",
      "    \n",
      "    Notes\n",
      "    -----\n",
      "    **Format Strings**\n",
      "    \n",
      "    A format string consists of a part for color, marker and line::\n",
      "    \n",
      "        fmt = '[marker][line][color]'\n",
      "    \n",
      "    Each of them is optional. If not provided, the value from the style\n",
      "    cycle is used. Exception: If ``line`` is given, but no ``marker``,\n",
      "    the data will be a line without markers.\n",
      "    \n",
      "    Other combinations such as ``[color][marker][line]`` are also\n",
      "    supported, but note that their parsing may be ambiguous.\n",
      "    \n",
      "    **Markers**\n",
      "    \n",
      "    =============   ===============================\n",
      "    character       description\n",
      "    =============   ===============================\n",
      "    ``'.'``         point marker\n",
      "    ``','``         pixel marker\n",
      "    ``'o'``         circle marker\n",
      "    ``'v'``         triangle_down marker\n",
      "    ``'^'``         triangle_up marker\n",
      "    ``'<'``         triangle_left marker\n",
      "    ``'>'``         triangle_right marker\n",
      "    ``'1'``         tri_down marker\n",
      "    ``'2'``         tri_up marker\n",
      "    ``'3'``         tri_left marker\n",
      "    ``'4'``         tri_right marker\n",
      "    ``'8'``         octagon marker\n",
      "    ``'s'``         square marker\n",
      "    ``'p'``         pentagon marker\n",
      "    ``'P'``         plus (filled) marker\n",
      "    ``'*'``         star marker\n",
      "    ``'h'``         hexagon1 marker\n",
      "    ``'H'``         hexagon2 marker\n",
      "    ``'+'``         plus marker\n",
      "    ``'x'``         x marker\n",
      "    ``'X'``         x (filled) marker\n",
      "    ``'D'``         diamond marker\n",
      "    ``'d'``         thin_diamond marker\n",
      "    ``'|'``         vline marker\n",
      "    ``'_'``         hline marker\n",
      "    =============   ===============================\n",
      "    \n",
      "    **Line Styles**\n",
      "    \n",
      "    =============    ===============================\n",
      "    character        description\n",
      "    =============    ===============================\n",
      "    ``'-'``          solid line style\n",
      "    ``'--'``         dashed line style\n",
      "    ``'-.'``         dash-dot line style\n",
      "    ``':'``          dotted line style\n",
      "    =============    ===============================\n",
      "    \n",
      "    Example format strings::\n",
      "    \n",
      "        'b'    # blue markers with default shape\n",
      "        'or'   # red circles\n",
      "        '-g'   # green solid line\n",
      "        '--'   # dashed line with default color\n",
      "        '^k:'  # black triangle_up markers connected by a dotted line\n",
      "    \n",
      "    **Colors**\n",
      "    \n",
      "    The supported color abbreviations are the single letter codes\n",
      "    \n",
      "    =============    ===============================\n",
      "    character        color\n",
      "    =============    ===============================\n",
      "    ``'b'``          blue\n",
      "    ``'g'``          green\n",
      "    ``'r'``          red\n",
      "    ``'c'``          cyan\n",
      "    ``'m'``          magenta\n",
      "    ``'y'``          yellow\n",
      "    ``'k'``          black\n",
      "    ``'w'``          white\n",
      "    =============    ===============================\n",
      "    \n",
      "    and the ``'CN'`` colors that index into the default property cycle.\n",
      "    \n",
      "    If the color is the only part of the format string, you can\n",
      "    additionally use any  `matplotlib.colors` spec, e.g. full names\n",
      "    (``'green'``) or hex strings (``'#008000'``).\n",
      "\n"
     ]
    },
    {
     "data": {
      "image/png": "[encoded data removed]",
      "text/plain": [
       "<Figure size 432x288 with 1 Axes>"
      ]
     },
     "metadata": {
      "needs_background": "light"
     },
     "output_type": "display_data"
    }
   ],
   "source": [
    "plt.plot(wcat.Waist,wcat.AT,\"rs\")\n",
    "plt.xlabel(\"Waist\")\n",
    "plt.ylabel(\"AT\")\n",
    "plt.title(\"ScatterPlot\")   \n",
    "help(plt.plot) "
   ]
  },
  {
   "cell_type": "code",
   "execution_count": 14,
   "metadata": {
    "ExecuteTime": {
     "end_time": "2022-09-23T04:45:41.361150Z",
     "start_time": "2022-09-23T04:45:41.347147Z"
    }
   },
   "outputs": [
    {
     "data": {
      "text/html": [
       "<div><div id=0ee4762b-b19d-4246-a71c-aeabb34557da style=\"display:none; background-color:#9D6CFF; color:white; width:200px; height:30px; padding-left:5px; border-radius:4px; flex-direction:row; justify-content:space-around; align-items:center;\" onmouseover=\"this.style.backgroundColor='#BA9BF8'\" onmouseout=\"this.style.backgroundColor='#9D6CFF'\" onclick=\"window.commands?.execute('create-mitosheet-from-dataframe-output');\">See Full Dataframe in Mito</div> <script> if (window.commands?.hasCommand('create-mitosheet-from-dataframe-output')) document.getElementById('0ee4762b-b19d-4246-a71c-aeabb34557da').style.display = 'flex' </script> <table border=\"1\" class=\"dataframe\">\n",
       "  <thead>\n",
       "    <tr style=\"text-align: right;\">\n",
       "      <th></th>\n",
       "      <th>Waist</th>\n",
       "      <th>AT</th>\n",
       "    </tr>\n",
       "  </thead>\n",
       "  <tbody>\n",
       "    <tr>\n",
       "      <th>Waist</th>\n",
       "      <td>1.000000</td>\n",
       "      <td>0.818558</td>\n",
       "    </tr>\n",
       "    <tr>\n",
       "      <th>AT</th>\n",
       "      <td>0.818558</td>\n",
       "      <td>1.000000</td>\n",
       "    </tr>\n",
       "  </tbody>\n",
       "</table></div>"
      ],
      "text/plain": [
       "          Waist        AT\n",
       "Waist  1.000000  0.818558\n",
       "AT     0.818558  1.000000"
      ]
     },
     "execution_count": 14,
     "metadata": {},
     "output_type": "execute_result"
    }
   ],
   "source": [
    "wcat.corr() "
   ]
  },
  {
   "cell_type": "code",
   "execution_count": 53,
   "metadata": {
    "ExecuteTime": {
     "end_time": "2022-08-04T11:04:18.833841Z",
     "start_time": "2022-08-04T11:04:18.819839Z"
    }
   },
   "outputs": [
    {
     "data": {
      "text/plain": [
       "0.818557812895853"
      ]
     },
     "execution_count": 53,
     "metadata": {},
     "output_type": "execute_result"
    }
   ],
   "source": [
    "#wcat.AT.corr(wcat.Waist) "
   ]
  },
  {
   "cell_type": "code",
   "execution_count": 54,
   "metadata": {
    "ExecuteTime": {
     "end_time": "2022-08-04T11:04:18.849840Z",
     "start_time": "2022-08-04T11:04:18.835840Z"
    }
   },
   "outputs": [
    {
     "data": {
      "text/html": [
       "<div><div id=2f677207-fcc9-4405-a19c-31bde8d2b5a0 style=\"display:none; background-color:#9D6CFF; color:white; width:200px; height:30px; padding-left:5px; border-radius:4px; flex-direction:row; justify-content:space-around; align-items:center;\" onmouseover=\"this.style.backgroundColor='#BA9BF8'\" onmouseout=\"this.style.backgroundColor='#9D6CFF'\" onclick=\"window.commands?.execute('create-mitosheet-from-dataframe-output');\">See Full Dataframe in Mito</div> <script> if (window.commands?.hasCommand('create-mitosheet-from-dataframe-output')) document.getElementById('2f677207-fcc9-4405-a19c-31bde8d2b5a0').style.display = 'flex' </script> <table border=\"1\" class=\"dataframe\">\n",
       "  <thead>\n",
       "    <tr style=\"text-align: right;\">\n",
       "      <th></th>\n",
       "      <th>Waist</th>\n",
       "      <th>AT</th>\n",
       "    </tr>\n",
       "  </thead>\n",
       "  <tbody>\n",
       "    <tr>\n",
       "      <th>Waist</th>\n",
       "      <td>1.000000</td>\n",
       "      <td>0.818558</td>\n",
       "    </tr>\n",
       "    <tr>\n",
       "      <th>AT</th>\n",
       "      <td>0.818558</td>\n",
       "      <td>1.000000</td>\n",
       "    </tr>\n",
       "  </tbody>\n",
       "</table></div>"
      ],
      "text/plain": [
       "          Waist        AT\n",
       "Waist  1.000000  0.818558\n",
       "AT     0.818558  1.000000"
      ]
     },
     "execution_count": 54,
     "metadata": {},
     "output_type": "execute_result"
    }
   ],
   "source": [
    "wcat.corr()  "
   ]
  },
  {
   "cell_type": "code",
   "execution_count": 15,
   "metadata": {
    "ExecuteTime": {
     "end_time": "2022-09-23T04:47:18.005360Z",
     "start_time": "2022-09-23T04:47:17.791750Z"
    }
   },
   "outputs": [
    {
     "data": {
      "text/plain": [
       "Intercept   -215.981488\n",
       "Waist          3.458859\n",
       "dtype: float64"
      ]
     },
     "execution_count": 15,
     "metadata": {},
     "output_type": "execute_result"
    }
   ],
   "source": [
    "import statsmodels.formula.api as smf\n",
    "model=smf.ols(\"AT~Waist\",data=wcat).fit()\n",
    "model.params "
   ]
  },
  {
   "cell_type": "code",
   "execution_count": 16,
   "metadata": {
    "ExecuteTime": {
     "end_time": "2022-09-23T04:48:43.258898Z",
     "start_time": "2022-09-23T04:48:43.225497Z"
    }
   },
   "outputs": [
    {
     "data": {
      "text/html": [
       "<table class=\"simpletable\">\n",
       "<caption>OLS Regression Results</caption>\n",
       "<tr>\n",
       "  <th>Dep. Variable:</th>           <td>AT</td>        <th>  R-squared:         </th> <td>   0.670</td>\n",
       "</tr>\n",
       "<tr>\n",
       "  <th>Model:</th>                   <td>OLS</td>       <th>  Adj. R-squared:    </th> <td>   0.667</td>\n",
       "</tr>\n",
       "<tr>\n",
       "  <th>Method:</th>             <td>Least Squares</td>  <th>  F-statistic:       </th> <td>   217.3</td>\n",
       "</tr>\n",
       "<tr>\n",
       "  <th>Date:</th>             <td>Fri, 23 Sep 2022</td> <th>  Prob (F-statistic):</th> <td>1.62e-27</td>\n",
       "</tr>\n",
       "<tr>\n",
       "  <th>Time:</th>                 <td>10:18:43</td>     <th>  Log-Likelihood:    </th> <td> -534.99</td>\n",
       "</tr>\n",
       "<tr>\n",
       "  <th>No. Observations:</th>      <td>   109</td>      <th>  AIC:               </th> <td>   1074.</td>\n",
       "</tr>\n",
       "<tr>\n",
       "  <th>Df Residuals:</th>          <td>   107</td>      <th>  BIC:               </th> <td>   1079.</td>\n",
       "</tr>\n",
       "<tr>\n",
       "  <th>Df Model:</th>              <td>     1</td>      <th>                     </th>     <td> </td>   \n",
       "</tr>\n",
       "<tr>\n",
       "  <th>Covariance Type:</th>      <td>nonrobust</td>    <th>                     </th>     <td> </td>   \n",
       "</tr>\n",
       "</table>\n",
       "<table class=\"simpletable\">\n",
       "<tr>\n",
       "      <td></td>         <th>coef</th>     <th>std err</th>      <th>t</th>      <th>P>|t|</th>  <th>[0.025</th>    <th>0.975]</th>  \n",
       "</tr>\n",
       "<tr>\n",
       "  <th>Intercept</th> <td> -215.9815</td> <td>   21.796</td> <td>   -9.909</td> <td> 0.000</td> <td> -259.190</td> <td> -172.773</td>\n",
       "</tr>\n",
       "<tr>\n",
       "  <th>Waist</th>     <td>    3.4589</td> <td>    0.235</td> <td>   14.740</td> <td> 0.000</td> <td>    2.994</td> <td>    3.924</td>\n",
       "</tr>\n",
       "</table>\n",
       "<table class=\"simpletable\">\n",
       "<tr>\n",
       "  <th>Omnibus:</th>       <td> 3.960</td> <th>  Durbin-Watson:     </th> <td>   1.560</td>\n",
       "</tr>\n",
       "<tr>\n",
       "  <th>Prob(Omnibus):</th> <td> 0.138</td> <th>  Jarque-Bera (JB):  </th> <td>   4.596</td>\n",
       "</tr>\n",
       "<tr>\n",
       "  <th>Skew:</th>          <td> 0.104</td> <th>  Prob(JB):          </th> <td>   0.100</td>\n",
       "</tr>\n",
       "<tr>\n",
       "  <th>Kurtosis:</th>      <td> 3.984</td> <th>  Cond. No.          </th> <td>    639.</td>\n",
       "</tr>\n",
       "</table><br/><br/>Notes:<br/>[1] Standard Errors assume that the covariance matrix of the errors is correctly specified."
      ],
      "text/plain": [
       "<class 'statsmodels.iolib.summary.Summary'>\n",
       "\"\"\"\n",
       "                            OLS Regression Results                            \n",
       "==============================================================================\n",
       "Dep. Variable:                     AT   R-squared:                       0.670\n",
       "Model:                            OLS   Adj. R-squared:                  0.667\n",
       "Method:                 Least Squares   F-statistic:                     217.3\n",
       "Date:                Fri, 23 Sep 2022   Prob (F-statistic):           1.62e-27\n",
       "Time:                        10:18:43   Log-Likelihood:                -534.99\n",
       "No. Observations:                 109   AIC:                             1074.\n",
       "Df Residuals:                     107   BIC:                             1079.\n",
       "Df Model:                           1                                         \n",
       "Covariance Type:            nonrobust                                         \n",
       "==============================================================================\n",
       "                 coef    std err          t      P>|t|      [0.025      0.975]\n",
       "------------------------------------------------------------------------------\n",
       "Intercept   -215.9815     21.796     -9.909      0.000    -259.190    -172.773\n",
       "Waist          3.4589      0.235     14.740      0.000       2.994       3.924\n",
       "==============================================================================\n",
       "Omnibus:                        3.960   Durbin-Watson:                   1.560\n",
       "Prob(Omnibus):                  0.138   Jarque-Bera (JB):                4.596\n",
       "Skew:                           0.104   Prob(JB):                        0.100\n",
       "Kurtosis:                       3.984   Cond. No.                         639.\n",
       "==============================================================================\n",
       "\n",
       "Notes:\n",
       "[1] Standard Errors assume that the covariance matrix of the errors is correctly specified.\n",
       "\"\"\""
      ]
     },
     "execution_count": 16,
     "metadata": {},
     "output_type": "execute_result"
    }
   ],
   "source": [
    "model.summary() "
   ]
  },
  {
   "cell_type": "code",
   "execution_count": 57,
   "metadata": {
    "ExecuteTime": {
     "end_time": "2022-08-04T11:04:18.941829Z",
     "start_time": "2022-08-04T11:04:18.927824Z"
    }
   },
   "outputs": [
    {
     "data": {
      "text/plain": [
       "0     -16.848252\n",
       "1      -9.241704\n",
       "2     -24.353210\n",
       "3     -31.589758\n",
       "4     -12.382366\n",
       "5     -10.857559\n",
       "6     -34.760237\n",
       "7     -39.507385\n",
       "8       7.783917\n",
       "9      -4.987020\n",
       "10     -4.390502\n",
       "11      0.427034\n",
       "12      1.348866\n",
       "13    -14.788404\n",
       "14    -19.390685\n",
       "15     33.619019\n",
       "16     -2.938883\n",
       "17     -7.082936\n",
       "18      4.067665\n",
       "19    -17.235940\n",
       "20    -13.231856\n",
       "21    -23.590237\n",
       "22    -24.951377\n",
       "23    -32.458770\n",
       "24    -21.804982\n",
       "25    -31.833576\n",
       "26     -0.105735\n",
       "27     21.843307\n",
       "28     -2.590420\n",
       "29     -4.624412\n",
       "         ...    \n",
       "79     30.965814\n",
       "80    -10.010459\n",
       "81    -38.493045\n",
       "82    -11.493045\n",
       "83    -13.410764\n",
       "84     23.695244\n",
       "85     40.260111\n",
       "86    -46.951905\n",
       "87     -0.304756\n",
       "88     42.459502\n",
       "89    -24.034186\n",
       "90     43.742697\n",
       "91      3.071822\n",
       "92     58.013268\n",
       "93    -29.930725\n",
       "94     17.472127\n",
       "95    -22.198748\n",
       "96     90.342392\n",
       "97      7.554408\n",
       "98     51.225283\n",
       "99     59.448400\n",
       "100     0.342392\n",
       "101    67.619928\n",
       "102    71.212658\n",
       "103    54.636689\n",
       "104    -6.250337\n",
       "105   -44.530093\n",
       "106    -3.130398\n",
       "107    50.770560\n",
       "108    48.695244\n",
       "Length: 109, dtype: float64"
      ]
     },
     "execution_count": 57,
     "metadata": {},
     "output_type": "execute_result"
    }
   ],
   "source": [
    "model.resid  "
   ]
  },
  {
   "cell_type": "code",
   "execution_count": 17,
   "metadata": {
    "ExecuteTime": {
     "end_time": "2022-09-23T04:51:16.693685Z",
     "start_time": "2022-09-23T04:51:16.670883Z"
    }
   },
   "outputs": [
    {
     "data": {
      "text/plain": [
       "0       42.568252\n",
       "1       35.131704\n",
       "2       66.953210\n",
       "3       74.389758\n",
       "4       42.222366\n",
       "5       32.537559\n",
       "6       63.840237\n",
       "7       72.487385\n",
       "8        3.656083\n",
       "9       37.207020\n",
       "10      32.710502\n",
       "11      43.432966\n",
       "12      36.861134\n",
       "13      57.268404\n",
       "14      50.350685\n",
       "15      22.160981\n",
       "16      46.718883\n",
       "17      40.492936\n",
       "18      39.282335\n",
       "19      46.545940\n",
       "20      49.831856\n",
       "21      63.840237\n",
       "22      60.381377\n",
       "23      92.548770\n",
       "24      67.644982\n",
       "25     102.233576\n",
       "26      83.555735\n",
       "27      62.456693\n",
       "28      81.480420\n",
       "29      69.374412\n",
       "          ...    \n",
       "79     161.034186\n",
       "80     142.010459\n",
       "81     164.493045\n",
       "82     164.493045\n",
       "83     171.410764\n",
       "84     159.304756\n",
       "85     143.739889\n",
       "86     167.951905\n",
       "87     159.304756\n",
       "88     202.540498\n",
       "89     161.034186\n",
       "90     121.257303\n",
       "91     148.928178\n",
       "92     122.986732\n",
       "93     110.880725\n",
       "94     119.527873\n",
       "95     147.198748\n",
       "96     150.657608\n",
       "97     126.445592\n",
       "98      98.774717\n",
       "99     138.551600\n",
       "100    150.657608\n",
       "101    161.380072\n",
       "102    181.787342\n",
       "103    133.363311\n",
       "104    130.250337\n",
       "105    106.730093\n",
       "106    136.130398\n",
       "107    157.229440\n",
       "108    159.304756\n",
       "Length: 109, dtype: float64"
      ]
     },
     "execution_count": 17,
     "metadata": {},
     "output_type": "execute_result"
    }
   ],
   "source": [
    "pred = model.predict(wcat.Waist)\n",
    "#pred = model.predict(wcat.iloc[:,0]) \n",
    "pred  "
   ]
  },
  {
   "cell_type": "code",
   "execution_count": 59,
   "metadata": {
    "ExecuteTime": {
     "end_time": "2022-08-04T11:04:19.003866Z",
     "start_time": "2022-08-04T11:04:18.975704Z"
    }
   },
   "outputs": [
    {
     "data": {
      "text/plain": [
       "0       42.568252\n",
       "1       35.131704\n",
       "2       66.953210\n",
       "3       74.389758\n",
       "4       42.222366\n",
       "5       32.537559\n",
       "6       63.840237\n",
       "7       72.487385\n",
       "8        3.656083\n",
       "9       37.207020\n",
       "10      32.710502\n",
       "11      43.432966\n",
       "12      36.861134\n",
       "13      57.268404\n",
       "14      50.350685\n",
       "15      22.160981\n",
       "16      46.718883\n",
       "17      40.492936\n",
       "18      39.282335\n",
       "19      46.545940\n",
       "20      49.831856\n",
       "21      63.840237\n",
       "22      60.381377\n",
       "23      92.548770\n",
       "24      67.644982\n",
       "25     102.233576\n",
       "26      83.555735\n",
       "27      62.456693\n",
       "28      81.480420\n",
       "29      69.374412\n",
       "          ...    \n",
       "79     161.034186\n",
       "80     142.010459\n",
       "81     164.493045\n",
       "82     164.493045\n",
       "83     171.410764\n",
       "84     159.304756\n",
       "85     143.739889\n",
       "86     167.951905\n",
       "87     159.304756\n",
       "88     202.540498\n",
       "89     161.034186\n",
       "90     121.257303\n",
       "91     148.928178\n",
       "92     122.986732\n",
       "93     110.880725\n",
       "94     119.527873\n",
       "95     147.198748\n",
       "96     150.657608\n",
       "97     126.445592\n",
       "98      98.774717\n",
       "99     138.551600\n",
       "100    150.657608\n",
       "101    161.380072\n",
       "102    181.787342\n",
       "103    133.363311\n",
       "104    130.250337\n",
       "105    106.730093\n",
       "106    136.130398\n",
       "107    157.229440\n",
       "108    159.304756\n",
       "Length: 109, dtype: float64"
      ]
     },
     "execution_count": 59,
     "metadata": {},
     "output_type": "execute_result"
    }
   ],
   "source": [
    "pred = model.predict(wcat.Waist)\n",
    "pred "
   ]
  },
  {
   "cell_type": "code",
   "execution_count": 60,
   "metadata": {
    "ExecuteTime": {
     "end_time": "2022-08-04T11:04:19.020236Z",
     "start_time": "2022-08-04T11:04:19.005864Z"
    }
   },
   "outputs": [
    {
     "data": {
      "text/plain": [
       "array([-5.09550501e-01, -2.79501693e-01, -7.36526900e-01, -9.55385603e-01,\n",
       "       -3.74486373e-01, -3.28370857e-01, -1.05127206e+00, -1.19484256e+00,\n",
       "        2.35413067e-01, -1.50825045e-01, -1.32784262e-01,  1.29149997e-02,\n",
       "        4.07944734e-02, -4.47253451e-01, -5.86442653e-01,  1.01675760e+00,\n",
       "       -8.88821743e-02, -2.14212943e-01,  1.23020519e-01, -5.21275561e-01,\n",
       "       -4.00177964e-01, -7.13451894e-01, -7.54617582e-01, -9.81667583e-01,\n",
       "       -6.59459501e-01, -9.62759522e-01, -3.19781076e-03,  6.60618576e-01,\n",
       "       -7.83434219e-02, -1.39858512e-01, -8.26468630e-03,  1.71170943e-02,\n",
       "       -5.78950111e-01, -2.93076130e-01, -2.97057035e-01,  3.06042549e-01,\n",
       "        2.48761552e-01, -3.41178084e-01,  4.02019198e-01, -5.40876395e-02,\n",
       "        8.97412236e-03,  1.09123902e-01, -3.50119995e-01,  1.71753428e+00,\n",
       "        7.69279067e-01, -1.10275004e+00, -9.64451677e-02,  3.66529597e-01,\n",
       "        1.88429083e-01,  6.95115285e-01,  4.95265365e-01,  5.09877715e-01,\n",
       "        1.64182014e+00, -9.86663558e-02, -4.07776106e-01,  6.88082435e-02,\n",
       "        3.45875024e-02,  2.19210876e+00, -2.71616788e-01,  4.70273747e-02,\n",
       "        1.39846029e-01,  6.67000524e-01, -9.70075897e-01, -1.07706214e+00,\n",
       "       -3.24477008e+00, -2.80465597e+00,  7.92427406e-01, -8.44646518e-01,\n",
       "       -1.51425539e+00,  3.59399916e-01, -1.99989739e+00,  6.24126210e-01,\n",
       "       -5.90591697e-01, -2.08814937e-01,  1.79721154e+00,  3.05324971e-01,\n",
       "       -9.46048563e-01, -5.06273229e-01, -1.16914228e+00,  9.36515345e-01,\n",
       "       -3.02751560e-01, -1.16416533e+00, -3.47590187e-01, -4.05588761e-01,\n",
       "        7.16627678e-01,  1.21760764e+00, -1.41999105e+00, -9.21689763e-03,\n",
       "        1.28412495e+00, -7.26878474e-01,  1.32293331e+00,  9.29027254e-02,\n",
       "        1.75452565e+00, -9.05210587e-01,  5.28418690e-01, -6.71368373e-01,\n",
       "        2.73227231e+00,  2.28471924e-01,  1.54923308e+00,  1.79792912e+00,\n",
       "        1.03551529e-02,  2.04506492e+00,  2.15372173e+00,  1.65240602e+00,\n",
       "       -1.89032222e-01, -1.34674694e+00, -9.46742714e-02,  1.53548064e+00,\n",
       "        1.47271578e+00])"
      ]
     },
     "execution_count": 60,
     "metadata": {},
     "output_type": "execute_result"
    }
   ],
   "source": [
    " model.resid_pearson "
   ]
  },
  {
   "cell_type": "code",
   "execution_count": 61,
   "metadata": {
    "ExecuteTime": {
     "end_time": "2022-08-04T11:04:19.035184Z",
     "start_time": "2022-08-04T11:04:19.023797Z"
    }
   },
   "outputs": [],
   "source": [
    "#print(model.conf_int(0.05))"
   ]
  },
  {
   "cell_type": "code",
   "execution_count": 18,
   "metadata": {
    "ExecuteTime": {
     "end_time": "2022-09-23T04:55:33.857780Z",
     "start_time": "2022-09-23T04:55:33.838596Z"
    }
   },
   "outputs": [
    {
     "data": {
      "text/plain": [
       "32.760177495755144"
      ]
     },
     "execution_count": 18,
     "metadata": {},
     "output_type": "execute_result"
    }
   ],
   "source": [
    "rmse_lin = np.sqrt(np.mean((np.array(wcat['AT'])-np.array(pred))**2))\n",
    "rmse_lin   "
   ]
  },
  {
   "cell_type": "code",
   "execution_count": null,
   "metadata": {},
   "outputs": [],
   "source": []
  },
  {
   "cell_type": "code",
   "execution_count": 63,
   "metadata": {
    "ExecuteTime": {
     "end_time": "2022-08-04T11:04:19.255877Z",
     "start_time": "2022-08-04T11:04:19.052002Z"
    }
   },
   "outputs": [
    {
     "data": {
      "text/plain": [
       "Text(0, 0.5, 'TISSUE')"
      ]
     },
     "execution_count": 63,
     "metadata": {},
     "output_type": "execute_result"
    },
    {
     "data": {
      "image/png": "[encoded data removed]",
      "text/plain": [
       "<Figure size 432x288 with 1 Axes>"
      ]
     },
     "metadata": {
      "needs_background": "light"
     },
     "output_type": "display_data"
    }
   ],
   "source": [
    "#import matplotlib.pylab as plt\n",
    "plt.scatter(x=wcat['Waist'],y=wcat['AT'],color='red')\n",
    "plt.plot(wcat['Waist'],pred,color='black')\n",
    "plt.xlabel('WAIST')\n",
    "plt.ylabel('TISSUE') "
   ]
  },
  {
   "cell_type": "code",
   "execution_count": 19,
   "metadata": {
    "ExecuteTime": {
     "end_time": "2022-09-23T04:58:35.033553Z",
     "start_time": "2022-09-23T04:58:35.025290Z"
    }
   },
   "outputs": [],
   "source": [
    "model2 = smf.ols('AT~np.log(Waist)',data=wcat).fit()\n",
    "#model2.params\n",
    "#model2.resid \n",
    "#model2.resid_pearson \n"
   ]
  },
  {
   "cell_type": "code",
   "execution_count": 20,
   "metadata": {
    "ExecuteTime": {
     "end_time": "2022-09-23T04:58:37.767615Z",
     "start_time": "2022-09-23T04:58:37.757624Z"
    }
   },
   "outputs": [
    {
     "data": {
      "text/html": [
       "<table class=\"simpletable\">\n",
       "<caption>OLS Regression Results</caption>\n",
       "<tr>\n",
       "  <th>Dep. Variable:</th>           <td>AT</td>        <th>  R-squared:         </th> <td>   0.675</td>\n",
       "</tr>\n",
       "<tr>\n",
       "  <th>Model:</th>                   <td>OLS</td>       <th>  Adj. R-squared:    </th> <td>   0.672</td>\n",
       "</tr>\n",
       "<tr>\n",
       "  <th>Method:</th>             <td>Least Squares</td>  <th>  F-statistic:       </th> <td>   222.6</td>\n",
       "</tr>\n",
       "<tr>\n",
       "  <th>Date:</th>             <td>Fri, 23 Sep 2022</td> <th>  Prob (F-statistic):</th> <td>6.80e-28</td>\n",
       "</tr>\n",
       "<tr>\n",
       "  <th>Time:</th>                 <td>10:28:37</td>     <th>  Log-Likelihood:    </th> <td> -534.11</td>\n",
       "</tr>\n",
       "<tr>\n",
       "  <th>No. Observations:</th>      <td>   109</td>      <th>  AIC:               </th> <td>   1072.</td>\n",
       "</tr>\n",
       "<tr>\n",
       "  <th>Df Residuals:</th>          <td>   107</td>      <th>  BIC:               </th> <td>   1078.</td>\n",
       "</tr>\n",
       "<tr>\n",
       "  <th>Df Model:</th>              <td>     1</td>      <th>                     </th>     <td> </td>   \n",
       "</tr>\n",
       "<tr>\n",
       "  <th>Covariance Type:</th>      <td>nonrobust</td>    <th>                     </th>     <td> </td>   \n",
       "</tr>\n",
       "</table>\n",
       "<table class=\"simpletable\">\n",
       "<tr>\n",
       "        <td></td>           <th>coef</th>     <th>std err</th>      <th>t</th>      <th>P>|t|</th>  <th>[0.025</th>    <th>0.975]</th>  \n",
       "</tr>\n",
       "<tr>\n",
       "  <th>Intercept</th>     <td>-1328.3420</td> <td>   95.923</td> <td>  -13.848</td> <td> 0.000</td> <td>-1518.498</td> <td>-1138.186</td>\n",
       "</tr>\n",
       "<tr>\n",
       "  <th>np.log(Waist)</th> <td>  317.1356</td> <td>   21.258</td> <td>   14.918</td> <td> 0.000</td> <td>  274.994</td> <td>  359.277</td>\n",
       "</tr>\n",
       "</table>\n",
       "<table class=\"simpletable\">\n",
       "<tr>\n",
       "  <th>Omnibus:</th>       <td> 3.317</td> <th>  Durbin-Watson:     </th> <td>   1.599</td>\n",
       "</tr>\n",
       "<tr>\n",
       "  <th>Prob(Omnibus):</th> <td> 0.190</td> <th>  Jarque-Bera (JB):  </th> <td>   2.908</td>\n",
       "</tr>\n",
       "<tr>\n",
       "  <th>Skew:</th>          <td> 0.235</td> <th>  Prob(JB):          </th> <td>   0.234</td>\n",
       "</tr>\n",
       "<tr>\n",
       "  <th>Kurtosis:</th>      <td> 3.647</td> <th>  Cond. No.          </th> <td>    145.</td>\n",
       "</tr>\n",
       "</table><br/><br/>Notes:<br/>[1] Standard Errors assume that the covariance matrix of the errors is correctly specified."
      ],
      "text/plain": [
       "<class 'statsmodels.iolib.summary.Summary'>\n",
       "\"\"\"\n",
       "                            OLS Regression Results                            \n",
       "==============================================================================\n",
       "Dep. Variable:                     AT   R-squared:                       0.675\n",
       "Model:                            OLS   Adj. R-squared:                  0.672\n",
       "Method:                 Least Squares   F-statistic:                     222.6\n",
       "Date:                Fri, 23 Sep 2022   Prob (F-statistic):           6.80e-28\n",
       "Time:                        10:28:37   Log-Likelihood:                -534.11\n",
       "No. Observations:                 109   AIC:                             1072.\n",
       "Df Residuals:                     107   BIC:                             1078.\n",
       "Df Model:                           1                                         \n",
       "Covariance Type:            nonrobust                                         \n",
       "=================================================================================\n",
       "                    coef    std err          t      P>|t|      [0.025      0.975]\n",
       "---------------------------------------------------------------------------------\n",
       "Intercept     -1328.3420     95.923    -13.848      0.000   -1518.498   -1138.186\n",
       "np.log(Waist)   317.1356     21.258     14.918      0.000     274.994     359.277\n",
       "==============================================================================\n",
       "Omnibus:                        3.317   Durbin-Watson:                   1.599\n",
       "Prob(Omnibus):                  0.190   Jarque-Bera (JB):                2.908\n",
       "Skew:                           0.235   Prob(JB):                        0.234\n",
       "Kurtosis:                       3.647   Cond. No.                         145.\n",
       "==============================================================================\n",
       "\n",
       "Notes:\n",
       "[1] Standard Errors assume that the covariance matrix of the errors is correctly specified.\n",
       "\"\"\""
      ]
     },
     "execution_count": 20,
     "metadata": {},
     "output_type": "execute_result"
    }
   ],
   "source": [
    "model2.summary() "
   ]
  },
  {
   "cell_type": "code",
   "execution_count": 22,
   "metadata": {
    "ExecuteTime": {
     "end_time": "2022-09-23T05:01:21.994061Z",
     "start_time": "2022-09-23T05:01:21.976037Z"
    }
   },
   "outputs": [
    {
     "data": {
      "text/plain": [
       "0       39.828156\n",
       "1       30.572779\n",
       "2       68.410960\n",
       "3       76.638769\n",
       "4       39.403610\n",
       "5       27.279545\n",
       "6       64.902356\n",
       "7       74.554213\n",
       "8      -11.899606\n",
       "9       33.182963\n",
       "10      27.500161\n",
       "11      40.887040\n",
       "12      32.749422\n",
       "13      57.365321\n",
       "14      49.233194\n",
       "15      13.753591\n",
       "16      44.878862\n",
       "17      37.272314\n",
       "18      35.771839\n",
       "19      44.670014\n",
       "20      48.614795\n",
       "21      64.902356\n",
       "22      60.957833\n",
       "23      95.876103\n",
       "24      69.185406\n",
       "25     105.677983\n",
       "26      86.494845\n",
       "27      63.330429\n",
       "28      84.289954\n",
       "29      71.113288\n",
       "          ...    \n",
       "79     159.451269\n",
       "80     143.031172\n",
       "81     162.347504\n",
       "82     162.347504\n",
       "83     168.061813\n",
       "84     157.993171\n",
       "85     144.559539\n",
       "86     165.217529\n",
       "87     157.993171\n",
       "88     192.573752\n",
       "89     159.451269\n",
       "90     124.092079\n",
       "91     149.100938\n",
       "92     125.714259\n",
       "93     114.180786\n",
       "94     122.461558\n",
       "95     147.594352\n",
       "96     150.600399\n",
       "97     128.933937\n",
       "98     102.211986\n",
       "99     139.952162\n",
       "100    150.600399\n",
       "101    159.742085\n",
       "102    176.444739\n",
       "103    135.276860\n",
       "104    132.438233\n",
       "105    110.127880\n",
       "106    137.778929\n",
       "107    156.234559\n",
       "108    157.993171\n",
       "Length: 109, dtype: float64"
      ]
     },
     "execution_count": 22,
     "metadata": {},
     "output_type": "execute_result"
    }
   ],
   "source": [
    "pred2 = model2.predict(pd.DataFrame(wcat['Waist'])) \n",
    "pred2  "
   ]
  },
  {
   "cell_type": "code",
   "execution_count": 23,
   "metadata": {
    "ExecuteTime": {
     "end_time": "2022-09-23T05:01:26.706520Z",
     "start_time": "2022-09-23T05:01:26.696293Z"
    }
   },
   "outputs": [
    {
     "data": {
      "text/plain": [
       "32.496884909321274"
      ]
     },
     "execution_count": 23,
     "metadata": {},
     "output_type": "execute_result"
    }
   ],
   "source": [
    "pred2\n",
    "rmse_log = np.sqrt(np.mean((np.array(wcat['AT'])-np.array(pred2))**2))\n",
    "rmse_log   "
   ]
  },
  {
   "cell_type": "code",
   "execution_count": 68,
   "metadata": {
    "ExecuteTime": {
     "end_time": "2022-08-04T11:04:19.379425Z",
     "start_time": "2022-08-04T11:04:19.365049Z"
    }
   },
   "outputs": [
    {
     "data": {
      "text/plain": [
       "0.8217781862645354"
      ]
     },
     "execution_count": 68,
     "metadata": {},
     "output_type": "execute_result"
    }
   ],
   "source": [
    "pred2.corr(wcat.AT)"
   ]
  },
  {
   "cell_type": "code",
   "execution_count": 69,
   "metadata": {
    "ExecuteTime": {
     "end_time": "2022-08-04T11:04:19.552298Z",
     "start_time": "2022-08-04T11:04:19.380417Z"
    }
   },
   "outputs": [
    {
     "data": {
      "text/plain": [
       "Text(0, 0.5, 'TISSUE')"
      ]
     },
     "execution_count": 69,
     "metadata": {},
     "output_type": "execute_result"
    },
    {
     "data": {
      "image/png": "[encoded data removed]",
      "text/plain": [
       "<Figure size 432x288 with 1 Axes>"
      ]
     },
     "metadata": {
      "needs_background": "light"
     },
     "output_type": "display_data"
    }
   ],
   "source": [
    "plt.scatter(x=wcat['Waist'],y=wcat['AT'],color='green')\n",
    "plt.plot(wcat['Waist'],pred2,color='blue')\n",
    "plt.xlabel('WAIST')\n",
    "plt.ylabel('TISSUE') "
   ]
  },
  {
   "cell_type": "code",
   "execution_count": 25,
   "metadata": {
    "ExecuteTime": {
     "end_time": "2022-09-23T05:04:38.934882Z",
     "start_time": "2022-09-23T05:04:38.900219Z"
    }
   },
   "outputs": [
    {
     "data": {
      "text/html": [
       "<table class=\"simpletable\">\n",
       "<caption>OLS Regression Results</caption>\n",
       "<tr>\n",
       "  <th>Dep. Variable:</th>       <td>np.log(AT)</td>    <th>  R-squared:         </th> <td>   0.707</td>\n",
       "</tr>\n",
       "<tr>\n",
       "  <th>Model:</th>                   <td>OLS</td>       <th>  Adj. R-squared:    </th> <td>   0.704</td>\n",
       "</tr>\n",
       "<tr>\n",
       "  <th>Method:</th>             <td>Least Squares</td>  <th>  F-statistic:       </th> <td>   258.3</td>\n",
       "</tr>\n",
       "<tr>\n",
       "  <th>Date:</th>             <td>Fri, 23 Sep 2022</td> <th>  Prob (F-statistic):</th> <td>2.68e-30</td>\n",
       "</tr>\n",
       "<tr>\n",
       "  <th>Time:</th>                 <td>10:34:38</td>     <th>  Log-Likelihood:    </th> <td> -40.123</td>\n",
       "</tr>\n",
       "<tr>\n",
       "  <th>No. Observations:</th>      <td>   109</td>      <th>  AIC:               </th> <td>   84.25</td>\n",
       "</tr>\n",
       "<tr>\n",
       "  <th>Df Residuals:</th>          <td>   107</td>      <th>  BIC:               </th> <td>   89.63</td>\n",
       "</tr>\n",
       "<tr>\n",
       "  <th>Df Model:</th>              <td>     1</td>      <th>                     </th>     <td> </td>   \n",
       "</tr>\n",
       "<tr>\n",
       "  <th>Covariance Type:</th>      <td>nonrobust</td>    <th>                     </th>     <td> </td>   \n",
       "</tr>\n",
       "</table>\n",
       "<table class=\"simpletable\">\n",
       "<tr>\n",
       "      <td></td>         <th>coef</th>     <th>std err</th>      <th>t</th>      <th>P>|t|</th>  <th>[0.025</th>    <th>0.975]</th>  \n",
       "</tr>\n",
       "<tr>\n",
       "  <th>Intercept</th> <td>    0.7410</td> <td>    0.233</td> <td>    3.185</td> <td> 0.002</td> <td>    0.280</td> <td>    1.202</td>\n",
       "</tr>\n",
       "<tr>\n",
       "  <th>Waist</th>     <td>    0.0403</td> <td>    0.003</td> <td>   16.073</td> <td> 0.000</td> <td>    0.035</td> <td>    0.045</td>\n",
       "</tr>\n",
       "</table>\n",
       "<table class=\"simpletable\">\n",
       "<tr>\n",
       "  <th>Omnibus:</th>       <td> 2.604</td> <th>  Durbin-Watson:     </th> <td>   1.201</td>\n",
       "</tr>\n",
       "<tr>\n",
       "  <th>Prob(Omnibus):</th> <td> 0.272</td> <th>  Jarque-Bera (JB):  </th> <td>   2.117</td>\n",
       "</tr>\n",
       "<tr>\n",
       "  <th>Skew:</th>          <td>-0.329</td> <th>  Prob(JB):          </th> <td>   0.347</td>\n",
       "</tr>\n",
       "<tr>\n",
       "  <th>Kurtosis:</th>      <td> 3.182</td> <th>  Cond. No.          </th> <td>    639.</td>\n",
       "</tr>\n",
       "</table><br/><br/>Notes:<br/>[1] Standard Errors assume that the covariance matrix of the errors is correctly specified."
      ],
      "text/plain": [
       "<class 'statsmodels.iolib.summary.Summary'>\n",
       "\"\"\"\n",
       "                            OLS Regression Results                            \n",
       "==============================================================================\n",
       "Dep. Variable:             np.log(AT)   R-squared:                       0.707\n",
       "Model:                            OLS   Adj. R-squared:                  0.704\n",
       "Method:                 Least Squares   F-statistic:                     258.3\n",
       "Date:                Fri, 23 Sep 2022   Prob (F-statistic):           2.68e-30\n",
       "Time:                        10:34:38   Log-Likelihood:                -40.123\n",
       "No. Observations:                 109   AIC:                             84.25\n",
       "Df Residuals:                     107   BIC:                             89.63\n",
       "Df Model:                           1                                         \n",
       "Covariance Type:            nonrobust                                         \n",
       "==============================================================================\n",
       "                 coef    std err          t      P>|t|      [0.025      0.975]\n",
       "------------------------------------------------------------------------------\n",
       "Intercept      0.7410      0.233      3.185      0.002       0.280       1.202\n",
       "Waist          0.0403      0.003     16.073      0.000       0.035       0.045\n",
       "==============================================================================\n",
       "Omnibus:                        2.604   Durbin-Watson:                   1.201\n",
       "Prob(Omnibus):                  0.272   Jarque-Bera (JB):                2.117\n",
       "Skew:                          -0.329   Prob(JB):                        0.347\n",
       "Kurtosis:                       3.182   Cond. No.                         639.\n",
       "==============================================================================\n",
       "\n",
       "Notes:\n",
       "[1] Standard Errors assume that the covariance matrix of the errors is correctly specified.\n",
       "\"\"\""
      ]
     },
     "execution_count": 25,
     "metadata": {},
     "output_type": "execute_result"
    }
   ],
   "source": [
    "#exponential model\n",
    "model3 = smf.ols('np.log(AT)~Waist',data=wcat).fit()\n",
    "model3.params\n",
    "model3.summary()\n"
   ]
  },
  {
   "cell_type": "code",
   "execution_count": 26,
   "metadata": {
    "ExecuteTime": {
     "end_time": "2022-09-23T05:04:43.248216Z",
     "start_time": "2022-09-23T05:04:43.230739Z"
    }
   },
   "outputs": [],
   "source": [
    "pred_log = model3.predict(pd.DataFrame(wcat['Waist']))"
   ]
  },
  {
   "cell_type": "code",
   "execution_count": 72,
   "metadata": {
    "ExecuteTime": {
     "end_time": "2022-08-04T11:04:19.645019Z",
     "start_time": "2022-08-04T11:04:19.632010Z"
    }
   },
   "outputs": [
    {
     "data": {
      "text/plain": [
       "0      3.749889\n",
       "1      3.663346\n",
       "2      4.033669\n",
       "3      4.120211\n",
       "4      3.745864\n",
       "5      3.633157\n",
       "6      3.997441\n",
       "7      4.098072\n",
       "8      3.297049\n",
       "9      3.687498\n",
       "10     3.635170\n",
       "11     3.759952\n",
       "12     3.683472\n",
       "13     3.920962\n",
       "14     3.840457\n",
       "15     3.512400\n",
       "16     3.798192\n",
       "17     3.725738\n",
       "18     3.711649\n",
       "19     3.796179\n",
       "20     3.834419\n",
       "21     3.997441\n",
       "22     3.957189\n",
       "23     4.331536\n",
       "24     4.041719\n",
       "25     4.444243\n",
       "26     4.226880\n",
       "27     3.981340\n",
       "28     4.202729\n",
       "29     4.061845\n",
       "         ...   \n",
       "79     5.128534\n",
       "80     4.907146\n",
       "81     5.168787\n",
       "82     5.168787\n",
       "83     5.249292\n",
       "84     5.108408\n",
       "85     4.927272\n",
       "86     5.209039\n",
       "87     5.108408\n",
       "88     5.611563\n",
       "89     5.128534\n",
       "90     4.665631\n",
       "91     4.987651\n",
       "92     4.685758\n",
       "93     4.544874\n",
       "94     4.645505\n",
       "95     4.967525\n",
       "96     5.007777\n",
       "97     4.726010\n",
       "98     4.403991\n",
       "99     4.866894\n",
       "100    5.007777\n",
       "101    5.132560\n",
       "102    5.370049\n",
       "103    4.806515\n",
       "104    4.770288\n",
       "105    4.496571\n",
       "106    4.838717\n",
       "107    5.084257\n",
       "108    5.108408\n",
       "Length: 109, dtype: float64"
      ]
     },
     "execution_count": 72,
     "metadata": {},
     "output_type": "execute_result"
    }
   ],
   "source": [
    "pred_log"
   ]
  },
  {
   "cell_type": "code",
   "execution_count": 27,
   "metadata": {
    "ExecuteTime": {
     "end_time": "2022-09-23T05:05:51.115610Z",
     "start_time": "2022-09-23T05:05:51.101815Z"
    }
   },
   "outputs": [
    {
     "data": {
      "text/plain": [
       "0       42.516361\n",
       "1       38.991601\n",
       "2       56.467684\n",
       "3       61.572246\n",
       "4       42.345566\n",
       "5       37.832062\n",
       "6       54.458630\n",
       "7       60.224086\n",
       "8       27.032754\n",
       "9       39.944768\n",
       "10      37.908280\n",
       "11      42.946367\n",
       "12      39.784304\n",
       "13      50.448940\n",
       "14      46.546737\n",
       "15      33.528629\n",
       "16      44.620431\n",
       "17      41.501829\n",
       "18      40.921236\n",
       "19      44.530718\n",
       "20      46.266541\n",
       "21      54.458630\n",
       "22      52.310071\n",
       "23      76.061058\n",
       "24      56.924111\n",
       "25      85.135421\n",
       "26      68.503177\n",
       "27      53.588815\n",
       "28      66.868544\n",
       "29      58.081384\n",
       "          ...    \n",
       "79     168.769572\n",
       "80     135.252851\n",
       "81     175.701533\n",
       "82     175.701533\n",
       "83     190.431312\n",
       "84     165.406833\n",
       "85     138.002556\n",
       "86     182.918215\n",
       "87     165.406833\n",
       "88     273.571587\n",
       "89     168.769572\n",
       "90     106.232649\n",
       "91     146.591651\n",
       "92     108.392370\n",
       "93      94.148585\n",
       "94     104.115960\n",
       "95     143.670808\n",
       "96     149.571875\n",
       "97     112.844427\n",
       "98      81.776569\n",
       "99     129.916714\n",
       "100    149.571875\n",
       "101    169.450279\n",
       "102    214.873357\n",
       "103    122.304636\n",
       "104    117.953181\n",
       "105     89.709020\n",
       "106    126.307181\n",
       "107    161.459872\n",
       "108    165.406833\n",
       "Length: 109, dtype: float64"
      ]
     },
     "execution_count": 27,
     "metadata": {},
     "output_type": "execute_result"
    }
   ],
   "source": [
    "pred3=np.exp(pred_log)  # as we have used log(AT) in preparing model so we need to convert it back\n",
    "pred3"
   ]
  },
  {
   "cell_type": "code",
   "execution_count": 28,
   "metadata": {
    "ExecuteTime": {
     "end_time": "2022-09-23T05:06:22.462718Z",
     "start_time": "2022-09-23T05:06:22.442669Z"
    }
   },
   "outputs": [
    {
     "data": {
      "text/plain": [
       "38.52900175807143"
      ]
     },
     "execution_count": 28,
     "metadata": {},
     "output_type": "execute_result"
    }
   ],
   "source": [
    "rmse_exp = np.sqrt(np.mean((np.array(wcat['AT'])-np.array(pred3))**2)) \n",
    "rmse_exp "
   ]
  },
  {
   "cell_type": "code",
   "execution_count": 75,
   "metadata": {
    "ExecuteTime": {
     "end_time": "2022-08-04T11:04:19.692376Z",
     "start_time": "2022-08-04T11:04:19.678261Z"
    }
   },
   "outputs": [
    {
     "data": {
      "text/plain": [
       "0.7633804583650525"
      ]
     },
     "execution_count": 75,
     "metadata": {},
     "output_type": "execute_result"
    }
   ],
   "source": [
    "pred3.corr(wcat.AT)"
   ]
  },
  {
   "cell_type": "code",
   "execution_count": 76,
   "metadata": {
    "ExecuteTime": {
     "end_time": "2022-08-04T11:04:19.954660Z",
     "start_time": "2022-08-04T11:04:19.695445Z"
    }
   },
   "outputs": [
    {
     "data": {
      "text/plain": [
       "Text(0, 0.5, 'TISSUE')"
      ]
     },
     "execution_count": 76,
     "metadata": {},
     "output_type": "execute_result"
    },
    {
     "data": {
      "image/png": "[encoded data removed]",
      "text/plain": [
       "<Figure size 432x288 with 1 Axes>"
      ]
     },
     "metadata": {
      "needs_background": "light"
     },
     "output_type": "display_data"
    }
   ],
   "source": [
    "plt.scatter(x=wcat['Waist'],y=wcat['AT'],color='green')\n",
    "plt.plot(wcat.Waist,pred3,color='blue')\n",
    "plt.xlabel('WAIST')\n",
    "plt.ylabel('TISSUE')\n",
    " "
   ]
  },
  {
   "cell_type": "code",
   "execution_count": 98,
   "metadata": {
    "ExecuteTime": {
     "end_time": "2022-08-04T11:08:59.809146Z",
     "start_time": "2022-08-04T11:08:59.635662Z"
    }
   },
   "outputs": [
    {
     "data": {
      "text/plain": [
       "[<matplotlib.lines.Line2D at 0x16a1d35e9a0>]"
      ]
     },
     "execution_count": 98,
     "metadata": {},
     "output_type": "execute_result"
    },
    {
     "data": {
      "image/png": "[encoded data removed]",
      "text/plain": [
       "<Figure size 640x480 with 1 Axes>"
      ]
     },
     "metadata": {},
     "output_type": "display_data"
    }
   ],
   "source": [
    "plt.plot(wcat['Waist'],wcat['AT'], 'bo')  \n",
    "plt.plot(wcat.Waist,pred3,color='red')"
   ]
  },
  {
   "cell_type": "code",
   "execution_count": 77,
   "metadata": {
    "ExecuteTime": {
     "end_time": "2022-08-04T11:04:19.970654Z",
     "start_time": "2022-08-04T11:04:19.956159Z"
    }
   },
   "outputs": [
    {
     "data": {
      "text/plain": [
       "array([-1.42426841, -1.16036536, -0.79857367, -1.03053611, -0.99183029,\n",
       "       -1.57770329, -1.77782943, -1.7063649 , -2.43678253, -0.60898882,\n",
       "       -0.82630708,  0.05965107, -0.11441073, -0.48719133, -1.15546702,\n",
       "        1.44239166, -0.05388192, -0.61457662,  0.16338349, -1.18519137,\n",
       "       -0.66413371, -0.85671265, -1.10408983, -0.66788034, -0.61366891,\n",
       "       -0.53854217,  0.559278  ,  1.28377825,  0.46848176,  0.30798929,\n",
       "        0.51662718,  0.58049434, -0.07722426,  0.24329581, -0.00731172,\n",
       "        0.71101855,  0.76180321, -0.07709724,  0.97229834,  0.26937281,\n",
       "        0.53880043,  0.34505495, -0.14698466,  2.03681962,  1.38280011,\n",
       "       -0.79731502,  0.38539598,  0.75747349,  0.67811133,  1.31762395,\n",
       "        1.00267879,  1.11566466,  2.03975207, -0.12692781, -0.4705888 ,\n",
       "        0.44867784,  0.60008028,  2.34805258,  0.21771996,  0.59055788,\n",
       "        0.50813615,  1.25820146, -1.76365553, -0.81659309, -2.97779536,\n",
       "       -2.56121918,  0.97601914, -0.5436722 , -1.10931613,  0.18123793,\n",
       "       -1.61748694,  0.6529884 , -0.11429706,  0.13012811,  0.82634725,\n",
       "        0.49697188, -0.55447313, -0.23543731, -0.81972409,  0.36543543,\n",
       "       -0.06898352, -0.9422149 , -0.39203734, -0.52903971,  0.28642368,\n",
       "        0.81514874, -1.17101758, -0.1119417 , -0.31257029, -0.5909752 ,\n",
       "        1.24771245,  0.10266362,  1.45294329, -0.42800746,  0.77777835,\n",
       "       -0.39448023,  1.35172552,  0.48691171,  1.71904131,  1.19404088,\n",
       "        0.02692794,  0.85340044,  0.4628565 ,  1.218279  ,  0.1416668 ,\n",
       "       -1.0377428 ,  0.14630966,  0.71772056,  0.64928288])"
      ]
     },
     "execution_count": 77,
     "metadata": {},
     "output_type": "execute_result"
    }
   ],
   "source": [
    "student_resid = model3.resid_pearson \n",
    "student_resid"
   ]
  },
  {
   "cell_type": "code",
   "execution_count": 78,
   "metadata": {
    "ExecuteTime": {
     "end_time": "2022-08-04T11:04:20.118014Z",
     "start_time": "2022-08-04T11:04:19.973155Z"
    }
   },
   "outputs": [
    {
     "data": {
      "text/plain": [
       "Text(0, 0.5, 'Standardized Residual')"
      ]
     },
     "execution_count": 78,
     "metadata": {},
     "output_type": "execute_result"
    },
    {
     "data": {
      "image/png": "[encoded data removed]",
      "text/plain": [
       "<Figure size 432x288 with 1 Axes>"
      ]
     },
     "metadata": {
      "needs_background": "light"
     },
     "output_type": "display_data"
    }
   ],
   "source": [
    "plt.plot(model3.resid_pearson,'o')\n",
    "plt.axhline(y=0,color='green')\n",
    "plt.xlabel(\"Observation Number\")\n",
    "plt.ylabel(\"Standardized Residual\") "
   ]
  },
  {
   "cell_type": "code",
   "execution_count": 79,
   "metadata": {
    "ExecuteTime": {
     "end_time": "2022-08-04T11:04:20.277024Z",
     "start_time": "2022-08-04T11:04:20.119940Z"
    }
   },
   "outputs": [
    {
     "data": {
      "text/plain": [
       "Text(0, 0.5, 'Actual')"
      ]
     },
     "execution_count": 79,
     "metadata": {},
     "output_type": "execute_result"
    },
    {
     "data": {
      "image/png": "[encoded data removed]",
      "text/plain": [
       "<Figure size 432x288 with 1 Axes>"
      ]
     },
     "metadata": {
      "needs_background": "light"
     },
     "output_type": "display_data"
    }
   ],
   "source": [
    "plt.scatter(x=pred3,y=wcat.AT)\n",
    "plt.xlabel(\"Predicted\")\n",
    "plt.ylabel(\"Actual\")"
   ]
  },
  {
   "cell_type": "code",
   "execution_count": 29,
   "metadata": {
    "ExecuteTime": {
     "end_time": "2022-09-23T05:08:48.257540Z",
     "start_time": "2022-09-23T05:08:48.222193Z"
    }
   },
   "outputs": [
    {
     "data": {
      "text/html": [
       "<div><div id=2e42bde5-c107-47f0-9eb8-bc83a15862e2 style=\"display:none; background-color:#9D6CFF; color:white; width:200px; height:30px; padding-left:5px; border-radius:4px; flex-direction:row; justify-content:space-around; align-items:center;\" onmouseover=\"this.style.backgroundColor='#BA9BF8'\" onmouseout=\"this.style.backgroundColor='#9D6CFF'\" onclick=\"window.commands?.execute('create-mitosheet-from-dataframe-output');\">See Full Dataframe in Mito</div> <script> if (window.commands?.hasCommand('create-mitosheet-from-dataframe-output')) document.getElementById('2e42bde5-c107-47f0-9eb8-bc83a15862e2').style.display = 'flex' </script> <table border=\"1\" class=\"dataframe\">\n",
       "  <thead>\n",
       "    <tr style=\"text-align: right;\">\n",
       "      <th></th>\n",
       "      <th>Waist</th>\n",
       "      <th>AT</th>\n",
       "      <th>Waist_Sq</th>\n",
       "    </tr>\n",
       "  </thead>\n",
       "  <tbody>\n",
       "    <tr>\n",
       "      <th>0</th>\n",
       "      <td>74.75</td>\n",
       "      <td>25.72</td>\n",
       "      <td>5587.5625</td>\n",
       "    </tr>\n",
       "    <tr>\n",
       "      <th>1</th>\n",
       "      <td>72.60</td>\n",
       "      <td>25.89</td>\n",
       "      <td>5270.7600</td>\n",
       "    </tr>\n",
       "    <tr>\n",
       "      <th>2</th>\n",
       "      <td>81.80</td>\n",
       "      <td>42.60</td>\n",
       "      <td>6691.2400</td>\n",
       "    </tr>\n",
       "    <tr>\n",
       "      <th>3</th>\n",
       "      <td>83.95</td>\n",
       "      <td>42.80</td>\n",
       "      <td>7047.6025</td>\n",
       "    </tr>\n",
       "    <tr>\n",
       "      <th>4</th>\n",
       "      <td>74.65</td>\n",
       "      <td>29.84</td>\n",
       "      <td>5572.6225</td>\n",
       "    </tr>\n",
       "    <tr>\n",
       "      <th>5</th>\n",
       "      <td>71.85</td>\n",
       "      <td>21.68</td>\n",
       "      <td>5162.4225</td>\n",
       "    </tr>\n",
       "    <tr>\n",
       "      <th>6</th>\n",
       "      <td>80.90</td>\n",
       "      <td>29.08</td>\n",
       "      <td>6544.8100</td>\n",
       "    </tr>\n",
       "    <tr>\n",
       "      <th>7</th>\n",
       "      <td>83.40</td>\n",
       "      <td>32.98</td>\n",
       "      <td>6955.5600</td>\n",
       "    </tr>\n",
       "    <tr>\n",
       "      <th>8</th>\n",
       "      <td>63.50</td>\n",
       "      <td>11.44</td>\n",
       "      <td>4032.2500</td>\n",
       "    </tr>\n",
       "    <tr>\n",
       "      <th>9</th>\n",
       "      <td>73.20</td>\n",
       "      <td>32.22</td>\n",
       "      <td>5358.2400</td>\n",
       "    </tr>\n",
       "    <tr>\n",
       "      <th>10</th>\n",
       "      <td>71.90</td>\n",
       "      <td>28.32</td>\n",
       "      <td>5169.6100</td>\n",
       "    </tr>\n",
       "    <tr>\n",
       "      <th>11</th>\n",
       "      <td>75.00</td>\n",
       "      <td>43.86</td>\n",
       "      <td>5625.0000</td>\n",
       "    </tr>\n",
       "    <tr>\n",
       "      <th>12</th>\n",
       "      <td>73.10</td>\n",
       "      <td>38.21</td>\n",
       "      <td>5343.6100</td>\n",
       "    </tr>\n",
       "    <tr>\n",
       "      <th>13</th>\n",
       "      <td>79.00</td>\n",
       "      <td>42.48</td>\n",
       "      <td>6241.0000</td>\n",
       "    </tr>\n",
       "    <tr>\n",
       "      <th>14</th>\n",
       "      <td>77.00</td>\n",
       "      <td>30.96</td>\n",
       "      <td>5929.0000</td>\n",
       "    </tr>\n",
       "    <tr>\n",
       "      <th>15</th>\n",
       "      <td>68.85</td>\n",
       "      <td>55.78</td>\n",
       "      <td>4740.3225</td>\n",
       "    </tr>\n",
       "    <tr>\n",
       "      <th>16</th>\n",
       "      <td>75.95</td>\n",
       "      <td>43.78</td>\n",
       "      <td>5768.4025</td>\n",
       "    </tr>\n",
       "    <tr>\n",
       "      <th>17</th>\n",
       "      <td>74.15</td>\n",
       "      <td>33.41</td>\n",
       "      <td>5498.2225</td>\n",
       "    </tr>\n",
       "    <tr>\n",
       "      <th>18</th>\n",
       "      <td>73.80</td>\n",
       "      <td>43.35</td>\n",
       "      <td>5446.4400</td>\n",
       "    </tr>\n",
       "    <tr>\n",
       "      <th>19</th>\n",
       "      <td>75.90</td>\n",
       "      <td>29.31</td>\n",
       "      <td>5760.8100</td>\n",
       "    </tr>\n",
       "    <tr>\n",
       "      <th>20</th>\n",
       "      <td>76.85</td>\n",
       "      <td>36.60</td>\n",
       "      <td>5905.9225</td>\n",
       "    </tr>\n",
       "    <tr>\n",
       "      <th>21</th>\n",
       "      <td>80.90</td>\n",
       "      <td>40.25</td>\n",
       "      <td>6544.8100</td>\n",
       "    </tr>\n",
       "    <tr>\n",
       "      <th>22</th>\n",
       "      <td>79.90</td>\n",
       "      <td>35.43</td>\n",
       "      <td>6384.0100</td>\n",
       "    </tr>\n",
       "    <tr>\n",
       "      <th>23</th>\n",
       "      <td>89.20</td>\n",
       "      <td>60.09</td>\n",
       "      <td>7956.6400</td>\n",
       "    </tr>\n",
       "    <tr>\n",
       "      <th>24</th>\n",
       "      <td>82.00</td>\n",
       "      <td>45.84</td>\n",
       "      <td>6724.0000</td>\n",
       "    </tr>\n",
       "    <tr>\n",
       "      <th>25</th>\n",
       "      <td>92.00</td>\n",
       "      <td>70.40</td>\n",
       "      <td>8464.0000</td>\n",
       "    </tr>\n",
       "    <tr>\n",
       "      <th>26</th>\n",
       "      <td>86.60</td>\n",
       "      <td>83.45</td>\n",
       "      <td>7499.5600</td>\n",
       "    </tr>\n",
       "    <tr>\n",
       "      <th>27</th>\n",
       "      <td>80.50</td>\n",
       "      <td>84.30</td>\n",
       "      <td>6480.2500</td>\n",
       "    </tr>\n",
       "    <tr>\n",
       "      <th>28</th>\n",
       "      <td>86.00</td>\n",
       "      <td>78.89</td>\n",
       "      <td>7396.0000</td>\n",
       "    </tr>\n",
       "    <tr>\n",
       "      <th>29</th>\n",
       "      <td>82.50</td>\n",
       "      <td>64.75</td>\n",
       "      <td>6806.2500</td>\n",
       "    </tr>\n",
       "    <tr>\n",
       "      <th>30</th>\n",
       "      <td>83.50</td>\n",
       "      <td>72.56</td>\n",
       "      <td>6972.2500</td>\n",
       "    </tr>\n",
       "    <tr>\n",
       "      <th>31</th>\n",
       "      <td>88.10</td>\n",
       "      <td>89.31</td>\n",
       "      <td>7761.6100</td>\n",
       "    </tr>\n",
       "    <tr>\n",
       "      <th>32</th>\n",
       "      <td>90.80</td>\n",
       "      <td>78.94</td>\n",
       "      <td>8244.6400</td>\n",
       "    </tr>\n",
       "    <tr>\n",
       "      <th>33</th>\n",
       "      <td>89.40</td>\n",
       "      <td>83.55</td>\n",
       "      <td>7992.3600</td>\n",
       "    </tr>\n",
       "    <tr>\n",
       "      <th>34</th>\n",
       "      <td>102.00</td>\n",
       "      <td>127.00</td>\n",
       "      <td>10404.0000</td>\n",
       "    </tr>\n",
       "    <tr>\n",
       "      <th>35</th>\n",
       "      <td>94.50</td>\n",
       "      <td>121.00</td>\n",
       "      <td>8930.2500</td>\n",
       "    </tr>\n",
       "    <tr>\n",
       "      <th>36</th>\n",
       "      <td>91.00</td>\n",
       "      <td>107.00</td>\n",
       "      <td>8281.0000</td>\n",
       "    </tr>\n",
       "    <tr>\n",
       "      <th>37</th>\n",
       "      <td>103.00</td>\n",
       "      <td>129.00</td>\n",
       "      <td>10609.0000</td>\n",
       "    </tr>\n",
       "    <tr>\n",
       "      <th>38</th>\n",
       "      <td>80.00</td>\n",
       "      <td>74.02</td>\n",
       "      <td>6400.0000</td>\n",
       "    </tr>\n",
       "    <tr>\n",
       "      <th>39</th>\n",
       "      <td>79.00</td>\n",
       "      <td>55.48</td>\n",
       "      <td>6241.0000</td>\n",
       "    </tr>\n",
       "    <tr>\n",
       "      <th>40</th>\n",
       "      <td>83.50</td>\n",
       "      <td>73.13</td>\n",
       "      <td>6972.2500</td>\n",
       "    </tr>\n",
       "    <tr>\n",
       "      <th>41</th>\n",
       "      <td>76.00</td>\n",
       "      <td>50.50</td>\n",
       "      <td>5776.0000</td>\n",
       "    </tr>\n",
       "    <tr>\n",
       "      <th>42</th>\n",
       "      <td>80.50</td>\n",
       "      <td>50.88</td>\n",
       "      <td>6480.2500</td>\n",
       "    </tr>\n",
       "    <tr>\n",
       "      <th>43</th>\n",
       "      <td>86.50</td>\n",
       "      <td>140.00</td>\n",
       "      <td>7482.2500</td>\n",
       "    </tr>\n",
       "    <tr>\n",
       "      <th>44</th>\n",
       "      <td>83.00</td>\n",
       "      <td>96.54</td>\n",
       "      <td>6889.0000</td>\n",
       "    </tr>\n",
       "    <tr>\n",
       "      <th>45</th>\n",
       "      <td>107.10</td>\n",
       "      <td>118.00</td>\n",
       "      <td>11470.4100</td>\n",
       "    </tr>\n",
       "    <tr>\n",
       "      <th>46</th>\n",
       "      <td>94.30</td>\n",
       "      <td>107.00</td>\n",
       "      <td>8892.4900</td>\n",
       "    </tr>\n",
       "    <tr>\n",
       "      <th>47</th>\n",
       "      <td>94.50</td>\n",
       "      <td>123.00</td>\n",
       "      <td>8930.2500</td>\n",
       "    </tr>\n",
       "    <tr>\n",
       "      <th>48</th>\n",
       "      <td>79.70</td>\n",
       "      <td>65.92</td>\n",
       "      <td>6352.0900</td>\n",
       "    </tr>\n",
       "    <tr>\n",
       "      <th>49</th>\n",
       "      <td>79.30</td>\n",
       "      <td>81.29</td>\n",
       "      <td>6288.4900</td>\n",
       "    </tr>\n",
       "    <tr>\n",
       "      <th>50</th>\n",
       "      <td>89.80</td>\n",
       "      <td>111.00</td>\n",
       "      <td>8064.0400</td>\n",
       "    </tr>\n",
       "    <tr>\n",
       "      <th>51</th>\n",
       "      <td>83.80</td>\n",
       "      <td>90.73</td>\n",
       "      <td>7022.4400</td>\n",
       "    </tr>\n",
       "    <tr>\n",
       "      <th>52</th>\n",
       "      <td>85.20</td>\n",
       "      <td>133.00</td>\n",
       "      <td>7259.0400</td>\n",
       "    </tr>\n",
       "    <tr>\n",
       "      <th>53</th>\n",
       "      <td>75.50</td>\n",
       "      <td>41.90</td>\n",
       "      <td>5700.2500</td>\n",
       "    </tr>\n",
       "    <tr>\n",
       "      <th>54</th>\n",
       "      <td>78.40</td>\n",
       "      <td>41.71</td>\n",
       "      <td>6146.5600</td>\n",
       "    </tr>\n",
       "    <tr>\n",
       "      <th>55</th>\n",
       "      <td>78.60</td>\n",
       "      <td>58.16</td>\n",
       "      <td>6177.9600</td>\n",
       "    </tr>\n",
       "    <tr>\n",
       "      <th>56</th>\n",
       "      <td>87.80</td>\n",
       "      <td>88.85</td>\n",
       "      <td>7708.8400</td>\n",
       "    </tr>\n",
       "    <tr>\n",
       "      <th>57</th>\n",
       "      <td>86.30</td>\n",
       "      <td>155.00</td>\n",
       "      <td>7447.6900</td>\n",
       "    </tr>\n",
       "    <tr>\n",
       "      <th>58</th>\n",
       "      <td>85.50</td>\n",
       "      <td>70.77</td>\n",
       "      <td>7310.2500</td>\n",
       "    </tr>\n",
       "    <tr>\n",
       "      <th>59</th>\n",
       "      <td>83.70</td>\n",
       "      <td>75.08</td>\n",
       "      <td>7005.6900</td>\n",
       "    </tr>\n",
       "    <tr>\n",
       "      <th>60</th>\n",
       "      <td>77.60</td>\n",
       "      <td>57.05</td>\n",
       "      <td>6021.7600</td>\n",
       "    </tr>\n",
       "    <tr>\n",
       "      <th>61</th>\n",
       "      <td>84.90</td>\n",
       "      <td>99.73</td>\n",
       "      <td>7208.0100</td>\n",
       "    </tr>\n",
       "    <tr>\n",
       "      <th>62</th>\n",
       "      <td>79.80</td>\n",
       "      <td>27.96</td>\n",
       "      <td>6368.0400</td>\n",
       "    </tr>\n",
       "    <tr>\n",
       "      <th>63</th>\n",
       "      <td>108.30</td>\n",
       "      <td>123.00</td>\n",
       "      <td>11728.8900</td>\n",
       "    </tr>\n",
       "    <tr>\n",
       "      <th>64</th>\n",
       "      <td>119.60</td>\n",
       "      <td>90.41</td>\n",
       "      <td>14304.1600</td>\n",
       "    </tr>\n",
       "    <tr>\n",
       "      <th>65</th>\n",
       "      <td>119.90</td>\n",
       "      <td>106.00</td>\n",
       "      <td>14376.0100</td>\n",
       "    </tr>\n",
       "    <tr>\n",
       "      <th>66</th>\n",
       "      <td>96.50</td>\n",
       "      <td>144.00</td>\n",
       "      <td>9312.2500</td>\n",
       "    </tr>\n",
       "    <tr>\n",
       "      <th>67</th>\n",
       "      <td>105.50</td>\n",
       "      <td>121.00</td>\n",
       "      <td>11130.2500</td>\n",
       "    </tr>\n",
       "    <tr>\n",
       "      <th>68</th>\n",
       "      <td>105.00</td>\n",
       "      <td>97.13</td>\n",
       "      <td>11025.0000</td>\n",
       "    </tr>\n",
       "    <tr>\n",
       "      <th>69</th>\n",
       "      <td>107.00</td>\n",
       "      <td>166.00</td>\n",
       "      <td>11449.0000</td>\n",
       "    </tr>\n",
       "    <tr>\n",
       "      <th>70</th>\n",
       "      <td>107.00</td>\n",
       "      <td>87.99</td>\n",
       "      <td>11449.0000</td>\n",
       "    </tr>\n",
       "    <tr>\n",
       "      <th>71</th>\n",
       "      <td>101.00</td>\n",
       "      <td>154.00</td>\n",
       "      <td>10201.0000</td>\n",
       "    </tr>\n",
       "    <tr>\n",
       "      <th>72</th>\n",
       "      <td>97.00</td>\n",
       "      <td>100.00</td>\n",
       "      <td>9409.0000</td>\n",
       "    </tr>\n",
       "    <tr>\n",
       "      <th>73</th>\n",
       "      <td>100.00</td>\n",
       "      <td>123.00</td>\n",
       "      <td>10000.0000</td>\n",
       "    </tr>\n",
       "    <tr>\n",
       "      <th>74</th>\n",
       "      <td>108.00</td>\n",
       "      <td>217.00</td>\n",
       "      <td>11664.0000</td>\n",
       "    </tr>\n",
       "    <tr>\n",
       "      <th>75</th>\n",
       "      <td>100.00</td>\n",
       "      <td>140.00</td>\n",
       "      <td>10000.0000</td>\n",
       "    </tr>\n",
       "    <tr>\n",
       "      <th>76</th>\n",
       "      <td>103.00</td>\n",
       "      <td>109.00</td>\n",
       "      <td>10609.0000</td>\n",
       "    </tr>\n",
       "    <tr>\n",
       "      <th>77</th>\n",
       "      <td>104.00</td>\n",
       "      <td>127.00</td>\n",
       "      <td>10816.0000</td>\n",
       "    </tr>\n",
       "    <tr>\n",
       "      <th>78</th>\n",
       "      <td>106.00</td>\n",
       "      <td>112.00</td>\n",
       "      <td>11236.0000</td>\n",
       "    </tr>\n",
       "    <tr>\n",
       "      <th>79</th>\n",
       "      <td>109.00</td>\n",
       "      <td>192.00</td>\n",
       "      <td>11881.0000</td>\n",
       "    </tr>\n",
       "    <tr>\n",
       "      <th>80</th>\n",
       "      <td>103.50</td>\n",
       "      <td>132.00</td>\n",
       "      <td>10712.2500</td>\n",
       "    </tr>\n",
       "    <tr>\n",
       "      <th>81</th>\n",
       "      <td>110.00</td>\n",
       "      <td>126.00</td>\n",
       "      <td>12100.0000</td>\n",
       "    </tr>\n",
       "    <tr>\n",
       "      <th>82</th>\n",
       "      <td>110.00</td>\n",
       "      <td>153.00</td>\n",
       "      <td>12100.0000</td>\n",
       "    </tr>\n",
       "    <tr>\n",
       "      <th>83</th>\n",
       "      <td>112.00</td>\n",
       "      <td>158.00</td>\n",
       "      <td>12544.0000</td>\n",
       "    </tr>\n",
       "    <tr>\n",
       "      <th>84</th>\n",
       "      <td>108.50</td>\n",
       "      <td>183.00</td>\n",
       "      <td>11772.2500</td>\n",
       "    </tr>\n",
       "    <tr>\n",
       "      <th>85</th>\n",
       "      <td>104.00</td>\n",
       "      <td>184.00</td>\n",
       "      <td>10816.0000</td>\n",
       "    </tr>\n",
       "    <tr>\n",
       "      <th>86</th>\n",
       "      <td>111.00</td>\n",
       "      <td>121.00</td>\n",
       "      <td>12321.0000</td>\n",
       "    </tr>\n",
       "    <tr>\n",
       "      <th>87</th>\n",
       "      <td>108.50</td>\n",
       "      <td>159.00</td>\n",
       "      <td>11772.2500</td>\n",
       "    </tr>\n",
       "    <tr>\n",
       "      <th>88</th>\n",
       "      <td>121.00</td>\n",
       "      <td>245.00</td>\n",
       "      <td>14641.0000</td>\n",
       "    </tr>\n",
       "    <tr>\n",
       "      <th>89</th>\n",
       "      <td>109.00</td>\n",
       "      <td>137.00</td>\n",
       "      <td>11881.0000</td>\n",
       "    </tr>\n",
       "    <tr>\n",
       "      <th>90</th>\n",
       "      <td>97.50</td>\n",
       "      <td>165.00</td>\n",
       "      <td>9506.2500</td>\n",
       "    </tr>\n",
       "    <tr>\n",
       "      <th>91</th>\n",
       "      <td>105.50</td>\n",
       "      <td>152.00</td>\n",
       "      <td>11130.2500</td>\n",
       "    </tr>\n",
       "    <tr>\n",
       "      <th>92</th>\n",
       "      <td>98.00</td>\n",
       "      <td>181.00</td>\n",
       "      <td>9604.0000</td>\n",
       "    </tr>\n",
       "    <tr>\n",
       "      <th>93</th>\n",
       "      <td>94.50</td>\n",
       "      <td>80.95</td>\n",
       "      <td>8930.2500</td>\n",
       "    </tr>\n",
       "    <tr>\n",
       "      <th>94</th>\n",
       "      <td>97.00</td>\n",
       "      <td>137.00</td>\n",
       "      <td>9409.0000</td>\n",
       "    </tr>\n",
       "    <tr>\n",
       "      <th>95</th>\n",
       "      <td>105.00</td>\n",
       "      <td>125.00</td>\n",
       "      <td>11025.0000</td>\n",
       "    </tr>\n",
       "    <tr>\n",
       "      <th>96</th>\n",
       "      <td>106.00</td>\n",
       "      <td>241.00</td>\n",
       "      <td>11236.0000</td>\n",
       "    </tr>\n",
       "    <tr>\n",
       "      <th>97</th>\n",
       "      <td>99.00</td>\n",
       "      <td>134.00</td>\n",
       "      <td>9801.0000</td>\n",
       "    </tr>\n",
       "    <tr>\n",
       "      <th>98</th>\n",
       "      <td>91.00</td>\n",
       "      <td>150.00</td>\n",
       "      <td>8281.0000</td>\n",
       "    </tr>\n",
       "    <tr>\n",
       "      <th>99</th>\n",
       "      <td>102.50</td>\n",
       "      <td>198.00</td>\n",
       "      <td>10506.2500</td>\n",
       "    </tr>\n",
       "    <tr>\n",
       "      <th>100</th>\n",
       "      <td>106.00</td>\n",
       "      <td>151.00</td>\n",
       "      <td>11236.0000</td>\n",
       "    </tr>\n",
       "    <tr>\n",
       "      <th>101</th>\n",
       "      <td>109.10</td>\n",
       "      <td>229.00</td>\n",
       "      <td>11902.8100</td>\n",
       "    </tr>\n",
       "    <tr>\n",
       "      <th>102</th>\n",
       "      <td>115.00</td>\n",
       "      <td>253.00</td>\n",
       "      <td>13225.0000</td>\n",
       "    </tr>\n",
       "    <tr>\n",
       "      <th>103</th>\n",
       "      <td>101.00</td>\n",
       "      <td>188.00</td>\n",
       "      <td>10201.0000</td>\n",
       "    </tr>\n",
       "    <tr>\n",
       "      <th>104</th>\n",
       "      <td>100.10</td>\n",
       "      <td>124.00</td>\n",
       "      <td>10020.0100</td>\n",
       "    </tr>\n",
       "    <tr>\n",
       "      <th>105</th>\n",
       "      <td>93.30</td>\n",
       "      <td>62.20</td>\n",
       "      <td>8704.8900</td>\n",
       "    </tr>\n",
       "    <tr>\n",
       "      <th>106</th>\n",
       "      <td>101.80</td>\n",
       "      <td>133.00</td>\n",
       "      <td>10363.2400</td>\n",
       "    </tr>\n",
       "    <tr>\n",
       "      <th>107</th>\n",
       "      <td>107.90</td>\n",
       "      <td>208.00</td>\n",
       "      <td>11642.4100</td>\n",
       "    </tr>\n",
       "    <tr>\n",
       "      <th>108</th>\n",
       "      <td>108.50</td>\n",
       "      <td>208.00</td>\n",
       "      <td>11772.2500</td>\n",
       "    </tr>\n",
       "  </tbody>\n",
       "</table></div>"
      ],
      "text/plain": [
       "      Waist      AT    Waist_Sq\n",
       "0     74.75   25.72   5587.5625\n",
       "1     72.60   25.89   5270.7600\n",
       "2     81.80   42.60   6691.2400\n",
       "3     83.95   42.80   7047.6025\n",
       "4     74.65   29.84   5572.6225\n",
       "5     71.85   21.68   5162.4225\n",
       "6     80.90   29.08   6544.8100\n",
       "7     83.40   32.98   6955.5600\n",
       "8     63.50   11.44   4032.2500\n",
       "9     73.20   32.22   5358.2400\n",
       "10    71.90   28.32   5169.6100\n",
       "11    75.00   43.86   5625.0000\n",
       "12    73.10   38.21   5343.6100\n",
       "13    79.00   42.48   6241.0000\n",
       "14    77.00   30.96   5929.0000\n",
       "15    68.85   55.78   4740.3225\n",
       "16    75.95   43.78   5768.4025\n",
       "17    74.15   33.41   5498.2225\n",
       "18    73.80   43.35   5446.4400\n",
       "19    75.90   29.31   5760.8100\n",
       "20    76.85   36.60   5905.9225\n",
       "21    80.90   40.25   6544.8100\n",
       "22    79.90   35.43   6384.0100\n",
       "23    89.20   60.09   7956.6400\n",
       "24    82.00   45.84   6724.0000\n",
       "25    92.00   70.40   8464.0000\n",
       "26    86.60   83.45   7499.5600\n",
       "27    80.50   84.30   6480.2500\n",
       "28    86.00   78.89   7396.0000\n",
       "29    82.50   64.75   6806.2500\n",
       "..      ...     ...         ...\n",
       "79   109.00  192.00  11881.0000\n",
       "80   103.50  132.00  10712.2500\n",
       "81   110.00  126.00  12100.0000\n",
       "82   110.00  153.00  12100.0000\n",
       "83   112.00  158.00  12544.0000\n",
       "84   108.50  183.00  11772.2500\n",
       "85   104.00  184.00  10816.0000\n",
       "86   111.00  121.00  12321.0000\n",
       "87   108.50  159.00  11772.2500\n",
       "88   121.00  245.00  14641.0000\n",
       "89   109.00  137.00  11881.0000\n",
       "90    97.50  165.00   9506.2500\n",
       "91   105.50  152.00  11130.2500\n",
       "92    98.00  181.00   9604.0000\n",
       "93    94.50   80.95   8930.2500\n",
       "94    97.00  137.00   9409.0000\n",
       "95   105.00  125.00  11025.0000\n",
       "96   106.00  241.00  11236.0000\n",
       "97    99.00  134.00   9801.0000\n",
       "98    91.00  150.00   8281.0000\n",
       "99   102.50  198.00  10506.2500\n",
       "100  106.00  151.00  11236.0000\n",
       "101  109.10  229.00  11902.8100\n",
       "102  115.00  253.00  13225.0000\n",
       "103  101.00  188.00  10201.0000\n",
       "104  100.10  124.00  10020.0100\n",
       "105   93.30   62.20   8704.8900\n",
       "106  101.80  133.00  10363.2400\n",
       "107  107.90  208.00  11642.4100\n",
       "108  108.50  208.00  11772.2500\n",
       "\n",
       "[109 rows x 3 columns]"
      ]
     },
     "execution_count": 29,
     "metadata": {},
     "output_type": "execute_result"
    }
   ],
   "source": [
    "wcat[\"Waist_Sq\"] = wcat.Waist*wcat.Waist\n",
    "wcat  "
   ]
  },
  {
   "cell_type": "code",
   "execution_count": 31,
   "metadata": {
    "ExecuteTime": {
     "end_time": "2022-09-23T05:09:56.130069Z",
     "start_time": "2022-09-23T05:09:56.116568Z"
    }
   },
   "outputs": [],
   "source": [
    "model_quad = smf.ols(\"np.log(AT)~Waist+Waist_Sq\",data=wcat).fit()\n",
    "#model_quad.params "
   ]
  },
  {
   "cell_type": "code",
   "execution_count": 32,
   "metadata": {
    "ExecuteTime": {
     "end_time": "2022-09-23T05:09:58.567821Z",
     "start_time": "2022-09-23T05:09:58.544719Z"
    }
   },
   "outputs": [
    {
     "data": {
      "text/html": [
       "<table class=\"simpletable\">\n",
       "<caption>OLS Regression Results</caption>\n",
       "<tr>\n",
       "  <th>Dep. Variable:</th>       <td>np.log(AT)</td>    <th>  R-squared:         </th> <td>   0.779</td>\n",
       "</tr>\n",
       "<tr>\n",
       "  <th>Model:</th>                   <td>OLS</td>       <th>  Adj. R-squared:    </th> <td>   0.775</td>\n",
       "</tr>\n",
       "<tr>\n",
       "  <th>Method:</th>             <td>Least Squares</td>  <th>  F-statistic:       </th> <td>   186.8</td>\n",
       "</tr>\n",
       "<tr>\n",
       "  <th>Date:</th>             <td>Fri, 23 Sep 2022</td> <th>  Prob (F-statistic):</th> <td>1.80e-35</td>\n",
       "</tr>\n",
       "<tr>\n",
       "  <th>Time:</th>                 <td>10:39:58</td>     <th>  Log-Likelihood:    </th> <td> -24.779</td>\n",
       "</tr>\n",
       "<tr>\n",
       "  <th>No. Observations:</th>      <td>   109</td>      <th>  AIC:               </th> <td>   55.56</td>\n",
       "</tr>\n",
       "<tr>\n",
       "  <th>Df Residuals:</th>          <td>   106</td>      <th>  BIC:               </th> <td>   63.63</td>\n",
       "</tr>\n",
       "<tr>\n",
       "  <th>Df Model:</th>              <td>     2</td>      <th>                     </th>     <td> </td>   \n",
       "</tr>\n",
       "<tr>\n",
       "  <th>Covariance Type:</th>      <td>nonrobust</td>    <th>                     </th>     <td> </td>   \n",
       "</tr>\n",
       "</table>\n",
       "<table class=\"simpletable\">\n",
       "<tr>\n",
       "      <td></td>         <th>coef</th>     <th>std err</th>      <th>t</th>      <th>P>|t|</th>  <th>[0.025</th>    <th>0.975]</th>  \n",
       "</tr>\n",
       "<tr>\n",
       "  <th>Intercept</th> <td>   -7.8241</td> <td>    1.473</td> <td>   -5.312</td> <td> 0.000</td> <td>  -10.744</td> <td>   -4.904</td>\n",
       "</tr>\n",
       "<tr>\n",
       "  <th>Waist</th>     <td>    0.2289</td> <td>    0.032</td> <td>    7.107</td> <td> 0.000</td> <td>    0.165</td> <td>    0.293</td>\n",
       "</tr>\n",
       "<tr>\n",
       "  <th>Waist_Sq</th>  <td>   -0.0010</td> <td>    0.000</td> <td>   -5.871</td> <td> 0.000</td> <td>   -0.001</td> <td>   -0.001</td>\n",
       "</tr>\n",
       "</table>\n",
       "<table class=\"simpletable\">\n",
       "<tr>\n",
       "  <th>Omnibus:</th>       <td> 0.325</td> <th>  Durbin-Watson:     </th> <td>   1.464</td>\n",
       "</tr>\n",
       "<tr>\n",
       "  <th>Prob(Omnibus):</th> <td> 0.850</td> <th>  Jarque-Bera (JB):  </th> <td>   0.271</td>\n",
       "</tr>\n",
       "<tr>\n",
       "  <th>Skew:</th>          <td> 0.119</td> <th>  Prob(JB):          </th> <td>   0.873</td>\n",
       "</tr>\n",
       "<tr>\n",
       "  <th>Kurtosis:</th>      <td> 2.949</td> <th>  Cond. No.          </th> <td>4.49e+05</td>\n",
       "</tr>\n",
       "</table><br/><br/>Notes:<br/>[1] Standard Errors assume that the covariance matrix of the errors is correctly specified.<br/>[2] The condition number is large, 4.49e+05. This might indicate that there are<br/>strong multicollinearity or other numerical problems."
      ],
      "text/plain": [
       "<class 'statsmodels.iolib.summary.Summary'>\n",
       "\"\"\"\n",
       "                            OLS Regression Results                            \n",
       "==============================================================================\n",
       "Dep. Variable:             np.log(AT)   R-squared:                       0.779\n",
       "Model:                            OLS   Adj. R-squared:                  0.775\n",
       "Method:                 Least Squares   F-statistic:                     186.8\n",
       "Date:                Fri, 23 Sep 2022   Prob (F-statistic):           1.80e-35\n",
       "Time:                        10:39:58   Log-Likelihood:                -24.779\n",
       "No. Observations:                 109   AIC:                             55.56\n",
       "Df Residuals:                     106   BIC:                             63.63\n",
       "Df Model:                           2                                         \n",
       "Covariance Type:            nonrobust                                         \n",
       "==============================================================================\n",
       "                 coef    std err          t      P>|t|      [0.025      0.975]\n",
       "------------------------------------------------------------------------------\n",
       "Intercept     -7.8241      1.473     -5.312      0.000     -10.744      -4.904\n",
       "Waist          0.2289      0.032      7.107      0.000       0.165       0.293\n",
       "Waist_Sq      -0.0010      0.000     -5.871      0.000      -0.001      -0.001\n",
       "==============================================================================\n",
       "Omnibus:                        0.325   Durbin-Watson:                   1.464\n",
       "Prob(Omnibus):                  0.850   Jarque-Bera (JB):                0.271\n",
       "Skew:                           0.119   Prob(JB):                        0.873\n",
       "Kurtosis:                       2.949   Cond. No.                     4.49e+05\n",
       "==============================================================================\n",
       "\n",
       "Notes:\n",
       "[1] Standard Errors assume that the covariance matrix of the errors is correctly specified.\n",
       "[2] The condition number is large, 4.49e+05. This might indicate that there are\n",
       "strong multicollinearity or other numerical problems.\n",
       "\"\"\""
      ]
     },
     "execution_count": 32,
     "metadata": {},
     "output_type": "execute_result"
    }
   ],
   "source": [
    "model_quad.summary()"
   ]
  },
  {
   "cell_type": "code",
   "execution_count": 33,
   "metadata": {
    "ExecuteTime": {
     "end_time": "2022-09-23T05:10:02.405005Z",
     "start_time": "2022-09-23T05:10:02.384476Z"
    }
   },
   "outputs": [
    {
     "data": {
      "text/plain": [
       "0       36.779400\n",
       "1       31.026570\n",
       "2       60.145769\n",
       "3       68.488132\n",
       "4       36.497176\n",
       "5       29.174597\n",
       "6       56.804132\n",
       "7       66.309110\n",
       "8       13.610862\n",
       "9       32.565621\n",
       "10      29.295590\n",
       "11      37.491210\n",
       "12      32.305552\n",
       "13      50.075256\n",
       "14      43.505263\n",
       "15      22.548823\n",
       "16      40.277322\n",
       "17      35.107507\n",
       "18      34.156014\n",
       "19      40.127488\n",
       "20      43.034658\n",
       "21      56.804132\n",
       "22      53.205658\n",
       "23      90.409485\n",
       "24      60.901036\n",
       "25     102.467180\n",
       "26      79.346903\n",
       "27      55.349922\n",
       "28      76.842525\n",
       "29      62.808612\n",
       "          ...    \n",
       "79     155.642311\n",
       "80     144.980610\n",
       "81     156.625326\n",
       "82     156.625326\n",
       "83     157.645795\n",
       "84     155.034904\n",
       "85     146.290109\n",
       "86     157.294508\n",
       "87     155.034904\n",
       "88     146.783920\n",
       "89     155.642311\n",
       "90     125.093851\n",
       "91     149.832482\n",
       "92     126.995763\n",
       "93     113.052967\n",
       "94     123.157825\n",
       "95     148.717813\n",
       "96     150.878818\n",
       "97     130.687397\n",
       "98      98.166004\n",
       "99     142.179763\n",
       "100    150.878818\n",
       "101    155.754580\n",
       "102    156.780640\n",
       "103    137.554384\n",
       "104    134.555999\n",
       "105    108.012957\n",
       "106    140.081911\n",
       "107    154.205675\n",
       "108    155.034904\n",
       "Length: 109, dtype: float64"
      ]
     },
     "execution_count": 33,
     "metadata": {},
     "output_type": "execute_result"
    }
   ],
   "source": [
    "pred_quad = model_quad.predict(wcat)\n",
    "pred4=np.exp(pred_quad)  # as we have used log(AT) in preparing model so we need to convert it back\n",
    "pred4\n"
   ]
  },
  {
   "cell_type": "code",
   "execution_count": 34,
   "metadata": {
    "ExecuteTime": {
     "end_time": "2022-09-23T05:10:06.745646Z",
     "start_time": "2022-09-23T05:10:06.726656Z"
    }
   },
   "outputs": [
    {
     "data": {
      "text/plain": [
       "32.24444782776014"
      ]
     },
     "execution_count": 34,
     "metadata": {},
     "output_type": "execute_result"
    }
   ],
   "source": [
    "rmse_quad = np.sqrt(np.mean((np.array(wcat['AT'])-np.array(pred4))**2))\n",
    "rmse_quad "
   ]
  },
  {
   "cell_type": "code",
   "execution_count": 93,
   "metadata": {
    "ExecuteTime": {
     "end_time": "2022-08-04T11:04:49.231812Z",
     "start_time": "2022-08-04T11:04:49.076290Z"
    }
   },
   "outputs": [
    {
     "data": {
      "text/plain": [
       "[<matplotlib.lines.Line2D at 0x16a1c05e0d0>]"
      ]
     },
     "execution_count": 93,
     "metadata": {},
     "output_type": "execute_result"
    },
    {
     "data": {
      "image/png": "[encoded data removed]",
      "text/plain": [
       "<Figure size 640x480 with 1 Axes>"
      ]
     },
     "metadata": {},
     "output_type": "display_data"
    }
   ],
   "source": [
    "plt.scatter(wcat.Waist,wcat.AT,c=\"b\")\n",
    "plt.plot(wcat.Waist,pred4,\"r\") "
   ]
  },
  {
   "cell_type": "code",
   "execution_count": 85,
   "metadata": {
    "ExecuteTime": {
     "end_time": "2022-08-04T11:04:20.650844Z",
     "start_time": "2022-08-04T11:04:20.419964Z"
    }
   },
   "outputs": [
    {
     "data": {
      "text/plain": [
       "Text(0, 0.5, 'Standardized Residual')"
      ]
     },
     "execution_count": 85,
     "metadata": {},
     "output_type": "execute_result"
    },
    {
     "data": {
      "image/png": "[encoded data removed]",
      "text/plain": [
       "<Figure size 432x288 with 1 Axes>"
      ]
     },
     "metadata": {
      "needs_background": "light"
     },
     "output_type": "display_data"
    }
   ],
   "source": [
    "plt.plot(np.arange(109),model_quad.resid_pearson)\n",
    "plt.axhline(y=0,color='red')\n",
    "plt.xlabel(\"Observation Number\")\n",
    "plt.ylabel(\"Standardized Residual\")   "
   ]
  },
  {
   "cell_type": "code",
   "execution_count": 86,
   "metadata": {
    "ExecuteTime": {
     "end_time": "2022-08-04T11:04:20.825527Z",
     "start_time": "2022-08-04T11:04:20.653862Z"
    }
   },
   "outputs": [
    {
     "data": {
      "text/plain": [
       "Text(0, 0.5, 'Standardized Residual')"
      ]
     },
     "execution_count": 86,
     "metadata": {},
     "output_type": "execute_result"
    },
    {
     "data": {
      "image/png": "[encoded data removed]",
      "text/plain": [
       "<Figure size 432x288 with 1 Axes>"
      ]
     },
     "metadata": {
      "needs_background": "light"
     },
     "output_type": "display_data"
    }
   ],
   "source": [
    "plt.scatter(np.arange(109),model_quad.resid_pearson)\n",
    "plt.axhline(y=0,color='red')\n",
    "plt.xlabel(\"Observation Number\")\n",
    "plt.ylabel(\"Standardized Residual\")  "
   ]
  },
  {
   "cell_type": "code",
   "execution_count": 87,
   "metadata": {
    "ExecuteTime": {
     "end_time": "2022-08-04T11:04:21.042083Z",
     "start_time": "2022-08-04T11:04:20.827525Z"
    }
   },
   "outputs": [
    {
     "data": {
      "image/png": "[encoded data removed]",
      "text/plain": [
       "<Figure size 432x288 with 1 Axes>"
      ]
     },
     "metadata": {
      "needs_background": "light"
     },
     "output_type": "display_data"
    }
   ],
   "source": [
    "plt.hist(model_quad.resid_pearson)\n",
    "plt.show() "
   ]
  },
  {
   "cell_type": "code",
   "execution_count": 88,
   "metadata": {
    "ExecuteTime": {
     "end_time": "2022-08-04T11:04:21.072657Z",
     "start_time": "2022-08-04T11:04:21.044621Z"
    }
   },
   "outputs": [
    {
     "data": {
      "text/html": [
       "<div><div id=379cce2d-9f74-4e06-a203-c81c38b67120 style=\"display:none; background-color:#9D6CFF; color:white; width:200px; height:30px; padding-left:5px; border-radius:4px; flex-direction:row; justify-content:space-around; align-items:center;\" onmouseover=\"this.style.backgroundColor='#BA9BF8'\" onmouseout=\"this.style.backgroundColor='#9D6CFF'\" onclick=\"window.commands?.execute('create-mitosheet-from-dataframe-output');\">See Full Dataframe in Mito</div> <script> if (window.commands?.hasCommand('create-mitosheet-from-dataframe-output')) document.getElementById('379cce2d-9f74-4e06-a203-c81c38b67120').style.display = 'flex' </script> <table border=\"1\" class=\"dataframe\">\n",
       "  <thead>\n",
       "    <tr style=\"text-align: right;\">\n",
       "      <th></th>\n",
       "      <th>MODEL</th>\n",
       "      <th>RMSE_Values</th>\n",
       "      <th>Rsquare</th>\n",
       "    </tr>\n",
       "  </thead>\n",
       "  <tbody>\n",
       "    <tr>\n",
       "      <th>0</th>\n",
       "      <td>rmse_lin</td>\n",
       "      <td>32.760177</td>\n",
       "      <td>0.670037</td>\n",
       "    </tr>\n",
       "    <tr>\n",
       "      <th>1</th>\n",
       "      <td>rmse_log</td>\n",
       "      <td>32.496885</td>\n",
       "      <td>0.675319</td>\n",
       "    </tr>\n",
       "    <tr>\n",
       "      <th>2</th>\n",
       "      <td>rmse_exp</td>\n",
       "      <td>38.529002</td>\n",
       "      <td>0.707114</td>\n",
       "    </tr>\n",
       "    <tr>\n",
       "      <th>3</th>\n",
       "      <td>rmse_quad</td>\n",
       "      <td>32.244448</td>\n",
       "      <td>0.778982</td>\n",
       "    </tr>\n",
       "  </tbody>\n",
       "</table></div>"
      ],
      "text/plain": [
       "       MODEL  RMSE_Values   Rsquare\n",
       "0   rmse_lin    32.760177  0.670037\n",
       "1   rmse_log    32.496885  0.675319\n",
       "2   rmse_exp    38.529002  0.707114\n",
       "3  rmse_quad    32.244448  0.778982"
      ]
     },
     "execution_count": 88,
     "metadata": {},
     "output_type": "execute_result"
    }
   ],
   "source": [
    "data = {\"MODEL\":pd.Series([\"rmse_lin\",\"rmse_log\",\"rmse_exp\",\"rmse_quad\"]),\n",
    "        \"RMSE_Values\":pd.Series([rmse_lin,rmse_log,rmse_exp,rmse_quad]),\n",
    "        \"Rsquare\":pd.Series([model.rsquared,model2.rsquared,model3.rsquared,model_quad.rsquared])}\n",
    "table=pd.DataFrame(data)\n",
    "table "
   ]
  },
  {
   "cell_type": "code",
   "execution_count": 89,
   "metadata": {
    "ExecuteTime": {
     "end_time": "2022-08-04T11:04:21.089651Z",
     "start_time": "2022-08-04T11:04:21.073719Z"
    }
   },
   "outputs": [
    {
     "name": "stdout",
     "output_type": "stream",
     "text": [
      "['Solarize_Light2', '_classic_test_patch', 'bmh', 'classic', 'dark_background', 'fast', 'fivethirtyeight', 'ggplot', 'grayscale', 'seaborn', 'seaborn-bright', 'seaborn-colorblind', 'seaborn-dark', 'seaborn-dark-palette', 'seaborn-darkgrid', 'seaborn-deep', 'seaborn-muted', 'seaborn-notebook', 'seaborn-paper', 'seaborn-pastel', 'seaborn-poster', 'seaborn-talk', 'seaborn-ticks', 'seaborn-white', 'seaborn-whitegrid', 'tableau-colorblind10']\n"
     ]
    }
   ],
   "source": [
    "print(plt.style.available)  "
   ]
  },
  {
   "cell_type": "code",
   "execution_count": 90,
   "metadata": {
    "ExecuteTime": {
     "end_time": "2022-08-04T11:04:21.104663Z",
     "start_time": "2022-08-04T11:04:21.091652Z"
    }
   },
   "outputs": [],
   "source": [
    "import matplotlib.pyplot as plt\n",
    ">>> plt.style.use('classic')     "
   ]
  },
  {
   "cell_type": "code",
   "execution_count": 91,
   "metadata": {
    "ExecuteTime": {
     "end_time": "2022-08-04T11:04:21.277753Z",
     "start_time": "2022-08-04T11:04:21.108654Z"
    }
   },
   "outputs": [
    {
     "data": {
      "image/png": "[encoded data removed]",
      "text/plain": [
       "<Figure size 640x480 with 1 Axes>"
      ]
     },
     "metadata": {},
     "output_type": "display_data"
    }
   ],
   "source": [
    "plt.hist(model_quad.resid_pearson)  \n",
    "plt.show() "
   ]
  },
  {
   "cell_type": "code",
   "execution_count": 92,
   "metadata": {
    "ExecuteTime": {
     "end_time": "2022-08-04T11:04:21.515268Z",
     "start_time": "2022-08-04T11:04:21.279267Z"
    }
   },
   "outputs": [
    {
     "data": {
      "text/plain": [
       "[<matplotlib.lines.Line2D at 0x16a1bff7d60>]"
      ]
     },
     "execution_count": 92,
     "metadata": {},
     "output_type": "execute_result"
    },
    {
     "data": {
      "image/png": "[encoded data removed]",
      "text/plain": [
       "<Figure size 640x480 with 1 Axes>"
      ]
     },
     "metadata": {},
     "output_type": "display_data"
    }
   ],
   "source": [
    "plt.scatter(wcat.Waist,wcat.AT,c=\"b\")\n",
    "plt.plot(wcat.Waist,pred4,\"r\")"
   ]
  },
  {
   "cell_type": "code",
   "execution_count": null,
   "metadata": {},
   "outputs": [],
   "source": []
  }
 ],
 "metadata": {
  "kernelspec": {
   "display_name": "Python 3 (ipykernel)",
   "language": "python",
   "name": "python3"
  },
  "language_info": {
   "codemirror_mode": {
    "name": "ipython",
    "version": 3
   },
   "file_extension": ".py",
   "mimetype": "text/x-python",
   "name": "python",
   "nbconvert_exporter": "python",
   "pygments_lexer": "ipython3",
   "version": "3.9.7"
  },
  "varInspector": {
   "cols": {
    "lenName": 16,
    "lenType": 16,
    "lenVar": 40
   },
   "kernels_config": {
    "python": {
     "delete_cmd_postfix": "",
     "delete_cmd_prefix": "del ",
     "library": "var_list.py",
     "varRefreshCmd": "print(var_dic_list())"
    },
    "r": {
     "delete_cmd_postfix": ") ",
     "delete_cmd_prefix": "rm(",
     "library": "var_list.r",
     "varRefreshCmd": "cat(var_dic_list()) "
    }
   },
   "types_to_exclude": [
    "module",
    "function",
    "builtin_function_or_method",
    "instance",
    "_Feature"
   ],
   "window_display": false
  }
 },
 "nbformat": 4,
 "nbformat_minor": 2
}
